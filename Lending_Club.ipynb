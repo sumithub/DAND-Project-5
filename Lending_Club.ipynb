{
 "cells": [
  {
   "cell_type": "markdown",
   "metadata": {
    "slideshow": {
     "slide_type": "slide"
    }
   },
   "source": [
    "# Lending Club Data Exploration\n",
    "\n",
    "## Data Overview\n",
    "The data given below contains the information about past loan applicants and whether they ‘defaulted’ or not. The aim is to identify patterns which indicate if a person is likely to default, which may be used for taking actions such as denying the loan, reducing the amount of loan, lending (to risky applicants) at a higher interest rate, etc."
   ]
  },
  {
   "cell_type": "markdown",
   "metadata": {
    "slideshow": {
     "slide_type": "slide"
    }
   },
   "source": [
    "## Business Objective\n",
    "Lending Club wants to understand the driving factors (or driver variables) behind loan default, i.e. the variables which are strong indicators of default.  The company can utilise this knowledge for its portfolio and risk assessment. "
   ]
  },
  {
   "cell_type": "markdown",
   "metadata": {
    "slideshow": {
     "slide_type": "skip"
    }
   },
   "source": [
    "## Preliminary Wrangling\n",
    "This document explores a dataset containing loan data and attributes for approximately 40,000 loan application."
   ]
  },
  {
   "cell_type": "code",
   "execution_count": 1,
   "metadata": {
    "slideshow": {
     "slide_type": "skip"
    }
   },
   "outputs": [],
   "source": [
    "# import all packages and set plots to be embedded inline\n",
    "import numpy as np\n",
    "import pandas as pd\n",
    "import matplotlib.pyplot as plt\n",
    "import seaborn as sns\n",
    "pd.options.display.float_format = '{:.2f}'.format"
   ]
  },
  {
   "cell_type": "code",
   "execution_count": 2,
   "metadata": {
    "slideshow": {
     "slide_type": "skip"
    }
   },
   "outputs": [
    {
     "name": "stdout",
     "output_type": "stream",
     "text": [
      "(39717, 111)\n",
      "id                              int64\n",
      "member_id                       int64\n",
      "loan_amnt                       int64\n",
      "funded_amnt                     int64\n",
      "funded_amnt_inv               float64\n",
      "                               ...   \n",
      "tax_liens                     float64\n",
      "tot_hi_cred_lim               float64\n",
      "total_bal_ex_mort             float64\n",
      "total_bc_limit                float64\n",
      "total_il_high_credit_limit    float64\n",
      "Length: 111, dtype: object\n",
      "        id  member_id  loan_amnt  funded_amnt  funded_amnt_inv        term  \\\n",
      "0  1077501    1296599       5000         5000          4975.00   36 months   \n",
      "1  1077430    1314167       2500         2500          2500.00   60 months   \n",
      "2  1077175    1313524       2400         2400          2400.00   36 months   \n",
      "3  1076863    1277178      10000        10000         10000.00   36 months   \n",
      "4  1075358    1311748       3000         3000          3000.00   60 months   \n",
      "5  1075269    1311441       5000         5000          5000.00   36 months   \n",
      "6  1069639    1304742       7000         7000          7000.00   60 months   \n",
      "7  1072053    1288686       3000         3000          3000.00   36 months   \n",
      "8  1071795    1306957       5600         5600          5600.00   60 months   \n",
      "9  1071570    1306721       5375         5375          5350.00   60 months   \n",
      "\n",
      "  int_rate  installment grade sub_grade  ... num_tl_90g_dpd_24m  \\\n",
      "0   10.65%       162.87     B        B2  ...                nan   \n",
      "1   15.27%        59.83     C        C4  ...                nan   \n",
      "2   15.96%        84.33     C        C5  ...                nan   \n",
      "3   13.49%       339.31     C        C1  ...                nan   \n",
      "4   12.69%        67.79     B        B5  ...                nan   \n",
      "5    7.90%       156.46     A        A4  ...                nan   \n",
      "6   15.96%       170.08     C        C5  ...                nan   \n",
      "7   18.64%       109.43     E        E1  ...                nan   \n",
      "8   21.28%       152.39     F        F2  ...                nan   \n",
      "9   12.69%       121.45     B        B5  ...                nan   \n",
      "\n",
      "  num_tl_op_past_12m pct_tl_nvr_dlq  percent_bc_gt_75 pub_rec_bankruptcies  \\\n",
      "0                nan            nan               nan                 0.00   \n",
      "1                nan            nan               nan                 0.00   \n",
      "2                nan            nan               nan                 0.00   \n",
      "3                nan            nan               nan                 0.00   \n",
      "4                nan            nan               nan                 0.00   \n",
      "5                nan            nan               nan                 0.00   \n",
      "6                nan            nan               nan                 0.00   \n",
      "7                nan            nan               nan                 0.00   \n",
      "8                nan            nan               nan                 0.00   \n",
      "9                nan            nan               nan                 0.00   \n",
      "\n",
      "  tax_liens tot_hi_cred_lim total_bal_ex_mort total_bc_limit  \\\n",
      "0      0.00             nan               nan            nan   \n",
      "1      0.00             nan               nan            nan   \n",
      "2      0.00             nan               nan            nan   \n",
      "3      0.00             nan               nan            nan   \n",
      "4      0.00             nan               nan            nan   \n",
      "5      0.00             nan               nan            nan   \n",
      "6      0.00             nan               nan            nan   \n",
      "7      0.00             nan               nan            nan   \n",
      "8      0.00             nan               nan            nan   \n",
      "9      0.00             nan               nan            nan   \n",
      "\n",
      "  total_il_high_credit_limit  \n",
      "0                        nan  \n",
      "1                        nan  \n",
      "2                        nan  \n",
      "3                        nan  \n",
      "4                        nan  \n",
      "5                        nan  \n",
      "6                        nan  \n",
      "7                        nan  \n",
      "8                        nan  \n",
      "9                        nan  \n",
      "\n",
      "[10 rows x 111 columns]\n"
     ]
    }
   ],
   "source": [
    "# load in the dataset into a pandas dataframe, print statistics\n",
    "loan_df = pd.read_csv('loan.csv',encoding = \"ISO-8859-1\", low_memory=False)\n",
    "print(loan_df.shape)\n",
    "print(loan_df.dtypes)\n",
    "print(loan_df.head(10))"
   ]
  },
  {
   "cell_type": "code",
   "execution_count": 3,
   "metadata": {
    "slideshow": {
     "slide_type": "skip"
    }
   },
   "outputs": [
    {
     "data": {
      "text/plain": [
       "id                             0.00\n",
       "member_id                      0.00\n",
       "loan_amnt                      0.00\n",
       "funded_amnt                    0.00\n",
       "funded_amnt_inv                0.00\n",
       "                              ...  \n",
       "tax_liens                      0.00\n",
       "tot_hi_cred_lim              100.00\n",
       "total_bal_ex_mort            100.00\n",
       "total_bc_limit               100.00\n",
       "total_il_high_credit_limit   100.00\n",
       "Length: 111, dtype: float64"
      ]
     },
     "execution_count": 3,
     "metadata": {},
     "output_type": "execute_result"
    }
   ],
   "source": [
    "# percentage of null values in each column\n",
    "round(100 * loan_df.isnull().sum()/loan_df['id'].count())"
   ]
  },
  {
   "cell_type": "code",
   "execution_count": 4,
   "metadata": {
    "slideshow": {
     "slide_type": "skip"
    }
   },
   "outputs": [
    {
     "data": {
      "text/plain": [
       "(39717, 54)"
      ]
     },
     "execution_count": 4,
     "metadata": {},
     "output_type": "execute_result"
    }
   ],
   "source": [
    "# Removing columns that have more that 50% nulls\n",
    "threshold_number = loan_df['id'].count()/2\n",
    "loan_df = loan_df.loc[:, loan_df.isnull().sum(axis=0) <= threshold_number]\n",
    "loan_df.shape"
   ]
  },
  {
   "cell_type": "code",
   "execution_count": 5,
   "metadata": {
    "slideshow": {
     "slide_type": "skip"
    }
   },
   "outputs": [
    {
     "data": {
      "text/plain": [
       "id                            39717\n",
       "member_id                     39717\n",
       "loan_amnt                       885\n",
       "funded_amnt                    1041\n",
       "funded_amnt_inv                8205\n",
       "term                              2\n",
       "int_rate                        371\n",
       "installment                   15383\n",
       "grade                             7\n",
       "sub_grade                        35\n",
       "emp_title                     28820\n",
       "emp_length                       11\n",
       "home_ownership                    5\n",
       "annual_inc                     5318\n",
       "verification_status               3\n",
       "issue_d                          55\n",
       "loan_status                       3\n",
       "pymnt_plan                        1\n",
       "url                           39717\n",
       "desc                          26527\n",
       "purpose                          14\n",
       "title                         19615\n",
       "zip_code                        823\n",
       "addr_state                       50\n",
       "dti                            2868\n",
       "delinq_2yrs                      11\n",
       "earliest_cr_line                526\n",
       "inq_last_6mths                    9\n",
       "open_acc                         40\n",
       "pub_rec                           5\n",
       "revol_bal                     21711\n",
       "revol_util                     1089\n",
       "total_acc                        82\n",
       "initial_list_status               1\n",
       "out_prncp                      1137\n",
       "out_prncp_inv                  1138\n",
       "total_pymnt                   37850\n",
       "total_pymnt_inv               37518\n",
       "total_rec_prncp                7976\n",
       "total_rec_int                 35148\n",
       "total_rec_late_fee             1356\n",
       "recoveries                     4040\n",
       "collection_recovery_fee        2616\n",
       "last_pymnt_d                    101\n",
       "last_pymnt_amnt               34930\n",
       "last_credit_pull_d              106\n",
       "collections_12_mths_ex_med        1\n",
       "policy_code                       1\n",
       "application_type                  1\n",
       "acc_now_delinq                    1\n",
       "chargeoff_within_12_mths          1\n",
       "delinq_amnt                       1\n",
       "pub_rec_bankruptcies              3\n",
       "tax_liens                         1\n",
       "dtype: int64"
      ]
     },
     "execution_count": 5,
     "metadata": {},
     "output_type": "execute_result"
    }
   ],
   "source": [
    "# Checking number of unique values in each column\n",
    "loan_df.nunique()"
   ]
  },
  {
   "cell_type": "code",
   "execution_count": 6,
   "metadata": {
    "slideshow": {
     "slide_type": "skip"
    }
   },
   "outputs": [
    {
     "data": {
      "text/plain": [
       "(39717, 45)"
      ]
     },
     "execution_count": 6,
     "metadata": {},
     "output_type": "execute_result"
    }
   ],
   "source": [
    "# Removing columns that has single value. Those columns will not give us any insights\n",
    "loan_df = loan_df.loc[:, loan_df.nunique(axis=0) > 1]\n",
    "loan_df.shape"
   ]
  },
  {
   "cell_type": "code",
   "execution_count": 7,
   "metadata": {
    "slideshow": {
     "slide_type": "skip"
    }
   },
   "outputs": [
    {
     "data": {
      "text/plain": [
       "id                         39717\n",
       "url                        39717\n",
       "member_id                  39717\n",
       "total_pymnt                37850\n",
       "total_pymnt_inv            37518\n",
       "total_rec_int              35148\n",
       "last_pymnt_amnt            34930\n",
       "emp_title                  28820\n",
       "desc                       26527\n",
       "revol_bal                  21711\n",
       "title                      19615\n",
       "installment                15383\n",
       "funded_amnt_inv             8205\n",
       "total_rec_prncp             7976\n",
       "annual_inc                  5318\n",
       "recoveries                  4040\n",
       "dti                         2868\n",
       "collection_recovery_fee     2616\n",
       "total_rec_late_fee          1356\n",
       "out_prncp_inv               1138\n",
       "out_prncp                   1137\n",
       "revol_util                  1089\n",
       "funded_amnt                 1041\n",
       "loan_amnt                    885\n",
       "zip_code                     823\n",
       "earliest_cr_line             526\n",
       "int_rate                     371\n",
       "last_credit_pull_d           106\n",
       "last_pymnt_d                 101\n",
       "total_acc                     82\n",
       "issue_d                       55\n",
       "addr_state                    50\n",
       "open_acc                      40\n",
       "sub_grade                     35\n",
       "purpose                       14\n",
       "emp_length                    11\n",
       "delinq_2yrs                   11\n",
       "inq_last_6mths                 9\n",
       "grade                          7\n",
       "home_ownership                 5\n",
       "pub_rec                        5\n",
       "verification_status            3\n",
       "loan_status                    3\n",
       "pub_rec_bankruptcies           3\n",
       "term                           2\n",
       "dtype: int64"
      ]
     },
     "execution_count": 7,
     "metadata": {},
     "output_type": "execute_result"
    }
   ],
   "source": [
    "loan_df.nunique().sort_values(ascending=False)"
   ]
  },
  {
   "cell_type": "code",
   "execution_count": 8,
   "metadata": {
    "slideshow": {
     "slide_type": "skip"
    }
   },
   "outputs": [
    {
     "data": {
      "text/plain": [
       " 36 months    29096\n",
       " 60 months    10621\n",
       "Name: term, dtype: int64"
      ]
     },
     "execution_count": 8,
     "metadata": {},
     "output_type": "execute_result"
    }
   ],
   "source": [
    "# Checking data in the columns with low variation\n",
    "loan_df['term'].value_counts()"
   ]
  },
  {
   "cell_type": "code",
   "execution_count": 9,
   "metadata": {
    "slideshow": {
     "slide_type": "skip"
    }
   },
   "outputs": [],
   "source": [
    "# converting term to int datatype , since term_months represents numeric\n",
    "loan_df['term_months'] = loan_df['term'].str.lstrip().str.slice(stop=2).astype('int')"
   ]
  },
  {
   "cell_type": "code",
   "execution_count": 10,
   "metadata": {
    "slideshow": {
     "slide_type": "skip"
    }
   },
   "outputs": [
    {
     "data": {
      "text/plain": [
       "36    29096\n",
       "60    10621\n",
       "Name: term_months, dtype: int64"
      ]
     },
     "execution_count": 10,
     "metadata": {},
     "output_type": "execute_result"
    }
   ],
   "source": [
    "loan_df['term_months'].value_counts()"
   ]
  },
  {
   "cell_type": "code",
   "execution_count": 11,
   "metadata": {
    "slideshow": {
     "slide_type": "skip"
    }
   },
   "outputs": [],
   "source": [
    "# dropping unused term column\n",
    "loan_df = loan_df.drop('term', axis=1)"
   ]
  },
  {
   "cell_type": "code",
   "execution_count": 12,
   "metadata": {
    "slideshow": {
     "slide_type": "skip"
    }
   },
   "outputs": [
    {
     "data": {
      "text/plain": [
       "0.00    37339\n",
       "1.00     1674\n",
       "2.00        7\n",
       "Name: pub_rec_bankruptcies, dtype: int64"
      ]
     },
     "execution_count": 12,
     "metadata": {},
     "output_type": "execute_result"
    }
   ],
   "source": [
    "# check unique values for pub_rec_bankruptcies\n",
    "loan_df['pub_rec_bankruptcies'].value_counts()\n",
    "# looks like few values are missing"
   ]
  },
  {
   "cell_type": "code",
   "execution_count": 13,
   "metadata": {
    "slideshow": {
     "slide_type": "skip"
    }
   },
   "outputs": [
    {
     "data": {
      "text/plain": [
       "697"
      ]
     },
     "execution_count": 13,
     "metadata": {},
     "output_type": "execute_result"
    }
   ],
   "source": [
    "# check null value count\n",
    "loan_df['pub_rec_bankruptcies'].isnull().sum()"
   ]
  },
  {
   "cell_type": "code",
   "execution_count": 14,
   "metadata": {
    "slideshow": {
     "slide_type": "skip"
    }
   },
   "outputs": [
    {
     "data": {
      "text/plain": [
       "True"
      ]
     },
     "execution_count": 14,
     "metadata": {},
     "output_type": "execute_result"
    }
   ],
   "source": [
    "# we dont want to be bias to bankruptcies. Removing rows with null values as it's safe to remove, since\n",
    "# low percentage of null values\n",
    "loan_df = loan_df[~loan_df['pub_rec_bankruptcies'].isnull()]\n",
    "# verify null values have been removed\n",
    "loan_df['pub_rec_bankruptcies'].isnull().sum() == 0"
   ]
  },
  {
   "cell_type": "code",
   "execution_count": 15,
   "metadata": {
    "slideshow": {
     "slide_type": "skip"
    }
   },
   "outputs": [
    {
     "data": {
      "text/plain": [
       "Fully Paid     32371\n",
       "Charged Off     5509\n",
       "Current         1140\n",
       "Name: loan_status, dtype: int64"
      ]
     },
     "execution_count": 15,
     "metadata": {},
     "output_type": "execute_result"
    }
   ],
   "source": [
    "# check for unique values in loan_status column\n",
    "loan_df['loan_status'].value_counts()"
   ]
  },
  {
   "cell_type": "code",
   "execution_count": 16,
   "metadata": {
    "slideshow": {
     "slide_type": "skip"
    }
   },
   "outputs": [
    {
     "data": {
      "text/plain": [
       "0"
      ]
     },
     "execution_count": 16,
     "metadata": {},
     "output_type": "execute_result"
    }
   ],
   "source": [
    "# check null value count\n",
    "loan_df['loan_status'].isnull().sum()"
   ]
  },
  {
   "cell_type": "code",
   "execution_count": 17,
   "metadata": {
    "slideshow": {
     "slide_type": "skip"
    }
   },
   "outputs": [
    {
     "data": {
      "text/plain": [
       "id                         0.00\n",
       "member_id                  0.00\n",
       "loan_amnt                  0.00\n",
       "funded_amnt                0.00\n",
       "funded_amnt_inv            0.00\n",
       "int_rate                   0.00\n",
       "installment                0.00\n",
       "grade                      0.00\n",
       "sub_grade                  0.00\n",
       "emp_title                  6.19\n",
       "emp_length                 2.75\n",
       "home_ownership             0.00\n",
       "annual_inc                 0.00\n",
       "verification_status        0.00\n",
       "issue_d                    0.00\n",
       "loan_status                0.00\n",
       "url                        0.00\n",
       "desc                      33.15\n",
       "purpose                    0.00\n",
       "title                      0.03\n",
       "zip_code                   0.00\n",
       "addr_state                 0.00\n",
       "dti                        0.00\n",
       "delinq_2yrs                0.00\n",
       "earliest_cr_line           0.00\n",
       "inq_last_6mths             0.00\n",
       "open_acc                   0.00\n",
       "pub_rec                    0.00\n",
       "revol_bal                  0.00\n",
       "revol_util                 0.13\n",
       "total_acc                  0.00\n",
       "out_prncp                  0.00\n",
       "out_prncp_inv              0.00\n",
       "total_pymnt                0.00\n",
       "total_pymnt_inv            0.00\n",
       "total_rec_prncp            0.00\n",
       "total_rec_int              0.00\n",
       "total_rec_late_fee         0.00\n",
       "recoveries                 0.00\n",
       "collection_recovery_fee    0.00\n",
       "last_pymnt_d               0.18\n",
       "last_pymnt_amnt            0.00\n",
       "last_credit_pull_d         0.00\n",
       "pub_rec_bankruptcies       0.00\n",
       "term_months                0.00\n",
       "dtype: float64"
      ]
     },
     "execution_count": 17,
     "metadata": {},
     "output_type": "execute_result"
    }
   ],
   "source": [
    "# percentage of null values in each column\n",
    "round(100 * loan_df.isnull().sum()/loan_df['id'].count(),2)"
   ]
  },
  {
   "cell_type": "code",
   "execution_count": 18,
   "metadata": {
    "slideshow": {
     "slide_type": "skip"
    }
   },
   "outputs": [],
   "source": [
    "# removing description as it's not significant\n",
    "loan_df = loan_df.drop('desc', axis=1)"
   ]
  },
  {
   "cell_type": "code",
   "execution_count": 19,
   "metadata": {
    "slideshow": {
     "slide_type": "skip"
    }
   },
   "outputs": [],
   "source": [
    "# removing rows with null values(as they are low in percentage):\n",
    "# employee title, employee length, title, revol_util, last_pymnt_d\n",
    "loan_df = loan_df[~loan_df['emp_title'].isnull()]\n",
    "loan_df = loan_df[~loan_df['emp_length'].isnull()]\n",
    "loan_df = loan_df[~loan_df['title'].isnull()]\n",
    "loan_df = loan_df[~loan_df['revol_util'].isnull()]\n",
    "loan_df = loan_df[~loan_df['last_pymnt_d'].isnull()]"
   ]
  },
  {
   "cell_type": "code",
   "execution_count": 20,
   "metadata": {
    "scrolled": true,
    "slideshow": {
     "slide_type": "skip"
    }
   },
   "outputs": [
    {
     "data": {
      "text/plain": [
       "id                        0.00\n",
       "member_id                 0.00\n",
       "loan_amnt                 0.00\n",
       "funded_amnt               0.00\n",
       "funded_amnt_inv           0.00\n",
       "int_rate                  0.00\n",
       "installment               0.00\n",
       "grade                     0.00\n",
       "sub_grade                 0.00\n",
       "emp_title                 0.00\n",
       "emp_length                0.00\n",
       "home_ownership            0.00\n",
       "annual_inc                0.00\n",
       "verification_status       0.00\n",
       "issue_d                   0.00\n",
       "loan_status               0.00\n",
       "url                       0.00\n",
       "purpose                   0.00\n",
       "title                     0.00\n",
       "zip_code                  0.00\n",
       "addr_state                0.00\n",
       "dti                       0.00\n",
       "delinq_2yrs               0.00\n",
       "earliest_cr_line          0.00\n",
       "inq_last_6mths            0.00\n",
       "open_acc                  0.00\n",
       "pub_rec                   0.00\n",
       "revol_bal                 0.00\n",
       "revol_util                0.00\n",
       "total_acc                 0.00\n",
       "out_prncp                 0.00\n",
       "out_prncp_inv             0.00\n",
       "total_pymnt               0.00\n",
       "total_pymnt_inv           0.00\n",
       "total_rec_prncp           0.00\n",
       "total_rec_int             0.00\n",
       "total_rec_late_fee        0.00\n",
       "recoveries                0.00\n",
       "collection_recovery_fee   0.00\n",
       "last_pymnt_d              0.00\n",
       "last_pymnt_amnt           0.00\n",
       "last_credit_pull_d        0.00\n",
       "pub_rec_bankruptcies      0.00\n",
       "term_months               0.00\n",
       "dtype: float64"
      ]
     },
     "execution_count": 20,
     "metadata": {},
     "output_type": "execute_result"
    }
   ],
   "source": [
    "# percentage of null values in each column\n",
    "round(100 * loan_df.isnull().sum()/loan_df['id'].count(),2)"
   ]
  },
  {
   "cell_type": "markdown",
   "metadata": {
    "slideshow": {
     "slide_type": "skip"
    }
   },
   "source": [
    "None of the columns contains missing values."
   ]
  },
  {
   "cell_type": "code",
   "execution_count": 21,
   "metadata": {
    "scrolled": true,
    "slideshow": {
     "slide_type": "skip"
    }
   },
   "outputs": [
    {
     "data": {
      "text/html": [
       "<div>\n",
       "<style scoped>\n",
       "    .dataframe tbody tr th:only-of-type {\n",
       "        vertical-align: middle;\n",
       "    }\n",
       "\n",
       "    .dataframe tbody tr th {\n",
       "        vertical-align: top;\n",
       "    }\n",
       "\n",
       "    .dataframe thead th {\n",
       "        text-align: right;\n",
       "    }\n",
       "</style>\n",
       "<table border=\"1\" class=\"dataframe\">\n",
       "  <thead>\n",
       "    <tr style=\"text-align: right;\">\n",
       "      <th></th>\n",
       "      <th>id</th>\n",
       "      <th>member_id</th>\n",
       "      <th>loan_amnt</th>\n",
       "      <th>funded_amnt</th>\n",
       "      <th>funded_amnt_inv</th>\n",
       "      <th>int_rate</th>\n",
       "      <th>installment</th>\n",
       "      <th>grade</th>\n",
       "      <th>sub_grade</th>\n",
       "      <th>emp_title</th>\n",
       "      <th>...</th>\n",
       "      <th>total_rec_prncp</th>\n",
       "      <th>total_rec_int</th>\n",
       "      <th>total_rec_late_fee</th>\n",
       "      <th>recoveries</th>\n",
       "      <th>collection_recovery_fee</th>\n",
       "      <th>last_pymnt_d</th>\n",
       "      <th>last_pymnt_amnt</th>\n",
       "      <th>last_credit_pull_d</th>\n",
       "      <th>pub_rec_bankruptcies</th>\n",
       "      <th>term_months</th>\n",
       "    </tr>\n",
       "  </thead>\n",
       "  <tbody>\n",
       "    <tr>\n",
       "      <td>1</td>\n",
       "      <td>1077430</td>\n",
       "      <td>1314167</td>\n",
       "      <td>2500</td>\n",
       "      <td>2500</td>\n",
       "      <td>2500.00</td>\n",
       "      <td>15.27%</td>\n",
       "      <td>59.83</td>\n",
       "      <td>C</td>\n",
       "      <td>C4</td>\n",
       "      <td>Ryder</td>\n",
       "      <td>...</td>\n",
       "      <td>456.46</td>\n",
       "      <td>435.17</td>\n",
       "      <td>0.00</td>\n",
       "      <td>117.08</td>\n",
       "      <td>1.11</td>\n",
       "      <td>Apr-13</td>\n",
       "      <td>119.66</td>\n",
       "      <td>Sep-13</td>\n",
       "      <td>0.00</td>\n",
       "      <td>60</td>\n",
       "    </tr>\n",
       "    <tr>\n",
       "      <td>3</td>\n",
       "      <td>1076863</td>\n",
       "      <td>1277178</td>\n",
       "      <td>10000</td>\n",
       "      <td>10000</td>\n",
       "      <td>10000.00</td>\n",
       "      <td>13.49%</td>\n",
       "      <td>339.31</td>\n",
       "      <td>C</td>\n",
       "      <td>C1</td>\n",
       "      <td>AIR RESOURCES BOARD</td>\n",
       "      <td>...</td>\n",
       "      <td>10000.00</td>\n",
       "      <td>2214.92</td>\n",
       "      <td>16.97</td>\n",
       "      <td>0.00</td>\n",
       "      <td>0.00</td>\n",
       "      <td>Jan-15</td>\n",
       "      <td>357.48</td>\n",
       "      <td>Apr-16</td>\n",
       "      <td>0.00</td>\n",
       "      <td>36</td>\n",
       "    </tr>\n",
       "    <tr>\n",
       "      <td>4</td>\n",
       "      <td>1075358</td>\n",
       "      <td>1311748</td>\n",
       "      <td>3000</td>\n",
       "      <td>3000</td>\n",
       "      <td>3000.00</td>\n",
       "      <td>12.69%</td>\n",
       "      <td>67.79</td>\n",
       "      <td>B</td>\n",
       "      <td>B5</td>\n",
       "      <td>University Medical Group</td>\n",
       "      <td>...</td>\n",
       "      <td>2475.94</td>\n",
       "      <td>1037.39</td>\n",
       "      <td>0.00</td>\n",
       "      <td>0.00</td>\n",
       "      <td>0.00</td>\n",
       "      <td>May-16</td>\n",
       "      <td>67.79</td>\n",
       "      <td>May-16</td>\n",
       "      <td>0.00</td>\n",
       "      <td>60</td>\n",
       "    </tr>\n",
       "    <tr>\n",
       "      <td>5</td>\n",
       "      <td>1075269</td>\n",
       "      <td>1311441</td>\n",
       "      <td>5000</td>\n",
       "      <td>5000</td>\n",
       "      <td>5000.00</td>\n",
       "      <td>7.90%</td>\n",
       "      <td>156.46</td>\n",
       "      <td>A</td>\n",
       "      <td>A4</td>\n",
       "      <td>Veolia Transportaton</td>\n",
       "      <td>...</td>\n",
       "      <td>5000.00</td>\n",
       "      <td>632.21</td>\n",
       "      <td>0.00</td>\n",
       "      <td>0.00</td>\n",
       "      <td>0.00</td>\n",
       "      <td>Jan-15</td>\n",
       "      <td>161.03</td>\n",
       "      <td>Jan-16</td>\n",
       "      <td>0.00</td>\n",
       "      <td>36</td>\n",
       "    </tr>\n",
       "    <tr>\n",
       "      <td>6</td>\n",
       "      <td>1069639</td>\n",
       "      <td>1304742</td>\n",
       "      <td>7000</td>\n",
       "      <td>7000</td>\n",
       "      <td>7000.00</td>\n",
       "      <td>15.96%</td>\n",
       "      <td>170.08</td>\n",
       "      <td>C</td>\n",
       "      <td>C5</td>\n",
       "      <td>Southern Star Photography</td>\n",
       "      <td>...</td>\n",
       "      <td>6985.61</td>\n",
       "      <td>3125.23</td>\n",
       "      <td>0.00</td>\n",
       "      <td>0.00</td>\n",
       "      <td>0.00</td>\n",
       "      <td>May-16</td>\n",
       "      <td>1313.76</td>\n",
       "      <td>May-16</td>\n",
       "      <td>0.00</td>\n",
       "      <td>60</td>\n",
       "    </tr>\n",
       "  </tbody>\n",
       "</table>\n",
       "<p>5 rows × 44 columns</p>\n",
       "</div>"
      ],
      "text/plain": [
       "        id  member_id  loan_amnt  funded_amnt  funded_amnt_inv int_rate  \\\n",
       "1  1077430    1314167       2500         2500          2500.00   15.27%   \n",
       "3  1076863    1277178      10000        10000         10000.00   13.49%   \n",
       "4  1075358    1311748       3000         3000          3000.00   12.69%   \n",
       "5  1075269    1311441       5000         5000          5000.00    7.90%   \n",
       "6  1069639    1304742       7000         7000          7000.00   15.96%   \n",
       "\n",
       "   installment grade sub_grade                  emp_title  ...  \\\n",
       "1        59.83     C        C4                      Ryder  ...   \n",
       "3       339.31     C        C1        AIR RESOURCES BOARD  ...   \n",
       "4        67.79     B        B5   University Medical Group  ...   \n",
       "5       156.46     A        A4       Veolia Transportaton  ...   \n",
       "6       170.08     C        C5  Southern Star Photography  ...   \n",
       "\n",
       "  total_rec_prncp total_rec_int  total_rec_late_fee recoveries  \\\n",
       "1          456.46        435.17                0.00     117.08   \n",
       "3        10000.00       2214.92               16.97       0.00   \n",
       "4         2475.94       1037.39                0.00       0.00   \n",
       "5         5000.00        632.21                0.00       0.00   \n",
       "6         6985.61       3125.23                0.00       0.00   \n",
       "\n",
       "  collection_recovery_fee last_pymnt_d last_pymnt_amnt last_credit_pull_d  \\\n",
       "1                    1.11       Apr-13          119.66             Sep-13   \n",
       "3                    0.00       Jan-15          357.48             Apr-16   \n",
       "4                    0.00       May-16           67.79             May-16   \n",
       "5                    0.00       Jan-15          161.03             Jan-16   \n",
       "6                    0.00       May-16         1313.76             May-16   \n",
       "\n",
       "  pub_rec_bankruptcies term_months  \n",
       "1                 0.00          60  \n",
       "3                 0.00          36  \n",
       "4                 0.00          60  \n",
       "5                 0.00          36  \n",
       "6                 0.00          60  \n",
       "\n",
       "[5 rows x 44 columns]"
      ]
     },
     "execution_count": 21,
     "metadata": {},
     "output_type": "execute_result"
    }
   ],
   "source": [
    "# exploring data values in each column\n",
    "loan_df.head()"
   ]
  },
  {
   "cell_type": "code",
   "execution_count": 22,
   "metadata": {
    "scrolled": true,
    "slideshow": {
     "slide_type": "skip"
    }
   },
   "outputs": [
    {
     "data": {
      "text/html": [
       "<div>\n",
       "<style scoped>\n",
       "    .dataframe tbody tr th:only-of-type {\n",
       "        vertical-align: middle;\n",
       "    }\n",
       "\n",
       "    .dataframe tbody tr th {\n",
       "        vertical-align: top;\n",
       "    }\n",
       "\n",
       "    .dataframe thead th {\n",
       "        text-align: right;\n",
       "    }\n",
       "</style>\n",
       "<table border=\"1\" class=\"dataframe\">\n",
       "  <thead>\n",
       "    <tr style=\"text-align: right;\">\n",
       "      <th></th>\n",
       "      <th>id</th>\n",
       "      <th>member_id</th>\n",
       "      <th>loan_amnt</th>\n",
       "      <th>funded_amnt</th>\n",
       "      <th>funded_amnt_inv</th>\n",
       "      <th>int_rate</th>\n",
       "      <th>installment</th>\n",
       "      <th>grade</th>\n",
       "      <th>sub_grade</th>\n",
       "      <th>emp_title</th>\n",
       "      <th>...</th>\n",
       "      <th>total_rec_prncp</th>\n",
       "      <th>total_rec_int</th>\n",
       "      <th>total_rec_late_fee</th>\n",
       "      <th>recoveries</th>\n",
       "      <th>collection_recovery_fee</th>\n",
       "      <th>last_pymnt_d</th>\n",
       "      <th>last_pymnt_amnt</th>\n",
       "      <th>last_credit_pull_d</th>\n",
       "      <th>pub_rec_bankruptcies</th>\n",
       "      <th>term_months</th>\n",
       "    </tr>\n",
       "  </thead>\n",
       "  <tbody>\n",
       "    <tr>\n",
       "      <td>1</td>\n",
       "      <td>1077430</td>\n",
       "      <td>1314167</td>\n",
       "      <td>2500</td>\n",
       "      <td>2500</td>\n",
       "      <td>2500.00</td>\n",
       "      <td>15.27%</td>\n",
       "      <td>59.83</td>\n",
       "      <td>C</td>\n",
       "      <td>C4</td>\n",
       "      <td>Ryder</td>\n",
       "      <td>...</td>\n",
       "      <td>456.46</td>\n",
       "      <td>435.17</td>\n",
       "      <td>0.00</td>\n",
       "      <td>117.08</td>\n",
       "      <td>1.11</td>\n",
       "      <td>Apr-13</td>\n",
       "      <td>119.66</td>\n",
       "      <td>Sep-13</td>\n",
       "      <td>0.00</td>\n",
       "      <td>60</td>\n",
       "    </tr>\n",
       "    <tr>\n",
       "      <td>3</td>\n",
       "      <td>1076863</td>\n",
       "      <td>1277178</td>\n",
       "      <td>10000</td>\n",
       "      <td>10000</td>\n",
       "      <td>10000.00</td>\n",
       "      <td>13.49%</td>\n",
       "      <td>339.31</td>\n",
       "      <td>C</td>\n",
       "      <td>C1</td>\n",
       "      <td>AIR RESOURCES BOARD</td>\n",
       "      <td>...</td>\n",
       "      <td>10000.00</td>\n",
       "      <td>2214.92</td>\n",
       "      <td>16.97</td>\n",
       "      <td>0.00</td>\n",
       "      <td>0.00</td>\n",
       "      <td>Jan-15</td>\n",
       "      <td>357.48</td>\n",
       "      <td>Apr-16</td>\n",
       "      <td>0.00</td>\n",
       "      <td>36</td>\n",
       "    </tr>\n",
       "    <tr>\n",
       "      <td>4</td>\n",
       "      <td>1075358</td>\n",
       "      <td>1311748</td>\n",
       "      <td>3000</td>\n",
       "      <td>3000</td>\n",
       "      <td>3000.00</td>\n",
       "      <td>12.69%</td>\n",
       "      <td>67.79</td>\n",
       "      <td>B</td>\n",
       "      <td>B5</td>\n",
       "      <td>University Medical Group</td>\n",
       "      <td>...</td>\n",
       "      <td>2475.94</td>\n",
       "      <td>1037.39</td>\n",
       "      <td>0.00</td>\n",
       "      <td>0.00</td>\n",
       "      <td>0.00</td>\n",
       "      <td>May-16</td>\n",
       "      <td>67.79</td>\n",
       "      <td>May-16</td>\n",
       "      <td>0.00</td>\n",
       "      <td>60</td>\n",
       "    </tr>\n",
       "    <tr>\n",
       "      <td>5</td>\n",
       "      <td>1075269</td>\n",
       "      <td>1311441</td>\n",
       "      <td>5000</td>\n",
       "      <td>5000</td>\n",
       "      <td>5000.00</td>\n",
       "      <td>7.90%</td>\n",
       "      <td>156.46</td>\n",
       "      <td>A</td>\n",
       "      <td>A4</td>\n",
       "      <td>Veolia Transportaton</td>\n",
       "      <td>...</td>\n",
       "      <td>5000.00</td>\n",
       "      <td>632.21</td>\n",
       "      <td>0.00</td>\n",
       "      <td>0.00</td>\n",
       "      <td>0.00</td>\n",
       "      <td>Jan-15</td>\n",
       "      <td>161.03</td>\n",
       "      <td>Jan-16</td>\n",
       "      <td>0.00</td>\n",
       "      <td>36</td>\n",
       "    </tr>\n",
       "    <tr>\n",
       "      <td>6</td>\n",
       "      <td>1069639</td>\n",
       "      <td>1304742</td>\n",
       "      <td>7000</td>\n",
       "      <td>7000</td>\n",
       "      <td>7000.00</td>\n",
       "      <td>15.96%</td>\n",
       "      <td>170.08</td>\n",
       "      <td>C</td>\n",
       "      <td>C5</td>\n",
       "      <td>Southern Star Photography</td>\n",
       "      <td>...</td>\n",
       "      <td>6985.61</td>\n",
       "      <td>3125.23</td>\n",
       "      <td>0.00</td>\n",
       "      <td>0.00</td>\n",
       "      <td>0.00</td>\n",
       "      <td>May-16</td>\n",
       "      <td>1313.76</td>\n",
       "      <td>May-16</td>\n",
       "      <td>0.00</td>\n",
       "      <td>60</td>\n",
       "    </tr>\n",
       "  </tbody>\n",
       "</table>\n",
       "<p>5 rows × 44 columns</p>\n",
       "</div>"
      ],
      "text/plain": [
       "        id  member_id  loan_amnt  funded_amnt  funded_amnt_inv int_rate  \\\n",
       "1  1077430    1314167       2500         2500          2500.00   15.27%   \n",
       "3  1076863    1277178      10000        10000         10000.00   13.49%   \n",
       "4  1075358    1311748       3000         3000          3000.00   12.69%   \n",
       "5  1075269    1311441       5000         5000          5000.00    7.90%   \n",
       "6  1069639    1304742       7000         7000          7000.00   15.96%   \n",
       "\n",
       "   installment grade sub_grade                  emp_title  ...  \\\n",
       "1        59.83     C        C4                      Ryder  ...   \n",
       "3       339.31     C        C1        AIR RESOURCES BOARD  ...   \n",
       "4        67.79     B        B5   University Medical Group  ...   \n",
       "5       156.46     A        A4       Veolia Transportaton  ...   \n",
       "6       170.08     C        C5  Southern Star Photography  ...   \n",
       "\n",
       "  total_rec_prncp total_rec_int  total_rec_late_fee recoveries  \\\n",
       "1          456.46        435.17                0.00     117.08   \n",
       "3        10000.00       2214.92               16.97       0.00   \n",
       "4         2475.94       1037.39                0.00       0.00   \n",
       "5         5000.00        632.21                0.00       0.00   \n",
       "6         6985.61       3125.23                0.00       0.00   \n",
       "\n",
       "  collection_recovery_fee last_pymnt_d last_pymnt_amnt last_credit_pull_d  \\\n",
       "1                    1.11       Apr-13          119.66             Sep-13   \n",
       "3                    0.00       Jan-15          357.48             Apr-16   \n",
       "4                    0.00       May-16           67.79             May-16   \n",
       "5                    0.00       Jan-15          161.03             Jan-16   \n",
       "6                    0.00       May-16         1313.76             May-16   \n",
       "\n",
       "  pub_rec_bankruptcies term_months  \n",
       "1                 0.00          60  \n",
       "3                 0.00          36  \n",
       "4                 0.00          60  \n",
       "5                 0.00          36  \n",
       "6                 0.00          60  \n",
       "\n",
       "[5 rows x 44 columns]"
      ]
     },
     "execution_count": 22,
     "metadata": {},
     "output_type": "execute_result"
    }
   ],
   "source": [
    "loan_df.head()"
   ]
  },
  {
   "cell_type": "markdown",
   "metadata": {
    "slideshow": {
     "slide_type": "skip"
    }
   },
   "source": [
    "## Other Quality Issues\n",
    "- int_rate and revol_util are percentage strings. % value can be removed and the column datatype needs to be changed to float instead of string.\n",
    "- emp_length can be numeric as well\n",
    "- object date columns: last_pymnt_d, last_credit_pull_d, earliest_cr_line, issue_d\n",
    "- splitting of month and year on issue date \n",
    "- Remove consumer behaviour columns\n",
    "- Remove zip_code, addr_state, url, id, member_id, title not to be used for data analysis"
   ]
  },
  {
   "cell_type": "code",
   "execution_count": 23,
   "metadata": {
    "slideshow": {
     "slide_type": "skip"
    }
   },
   "outputs": [],
   "source": [
    "# int_rate and revol_util are percentage strings\n",
    "loan_df['int_rate'] = loan_df['int_rate'].str.strip('%').astype('float')\n",
    "loan_df['revol_util'] = loan_df['revol_util'].str.strip('%').astype('float')"
   ]
  },
  {
   "cell_type": "code",
   "execution_count": 24,
   "metadata": {
    "slideshow": {
     "slide_type": "skip"
    }
   },
   "outputs": [
    {
     "data": {
      "text/plain": [
       "10+ years    8407\n",
       "2 years      4178\n",
       "< 1 year     4052\n",
       "3 years      3914\n",
       "4 years      3297\n",
       "5 years      3129\n",
       "1 year       3026\n",
       "6 years      2121\n",
       "7 years      1697\n",
       "8 years      1405\n",
       "9 years      1207\n",
       "Name: emp_length, dtype: int64"
      ]
     },
     "execution_count": 24,
     "metadata": {},
     "output_type": "execute_result"
    }
   ],
   "source": [
    "# emp_length can be numeric as well\n",
    "loan_df['emp_length'].value_counts()"
   ]
  },
  {
   "cell_type": "code",
   "execution_count": 25,
   "metadata": {
    "slideshow": {
     "slide_type": "skip"
    }
   },
   "outputs": [
    {
     "data": {
      "text/plain": [
       "10    8407\n",
       "2     4178\n",
       "0     4052\n",
       "3     3914\n",
       "4     3297\n",
       "5     3129\n",
       "1     3026\n",
       "6     2121\n",
       "7     1697\n",
       "8     1405\n",
       "9     1207\n",
       "Name: emp_length, dtype: int64"
      ]
     },
     "execution_count": 25,
     "metadata": {},
     "output_type": "execute_result"
    }
   ],
   "source": [
    "# can give values 0 to 10: 0 for < 1 year, 10, for 10+\n",
    "# using replace method on dataframe\n",
    "replace_dict = {\n",
    "    '10+ years': 10,\n",
    "    '2 years': 2,\n",
    "    '< 1 year': 0,\n",
    "    '3 years': 3,\n",
    "    '4 years': 4,\n",
    "    '5 years': 5,\n",
    "    '6 years': 6,\n",
    "    '1 year': 1,\n",
    "    '7 years': 7,\n",
    "    '8 years': 8,\n",
    "    '9 years': 9\n",
    "}\n",
    "loan_df = loan_df.replace({\"emp_length\": replace_dict })\n",
    "loan_df['emp_length'].value_counts()"
   ]
  },
  {
   "cell_type": "code",
   "execution_count": 26,
   "metadata": {
    "slideshow": {
     "slide_type": "skip"
    }
   },
   "outputs": [],
   "source": [
    "# object date columns: last_pymnt_d, last_credit_pull_d, earliest_cr_line, issue_d\n",
    "# converting them to datetime columns\n",
    "loan_df['last_pymnt_d'] = pd.to_datetime(loan_df['last_pymnt_d'], format='%b-%y')\n",
    "loan_df['last_credit_pull_d'] = pd.to_datetime(loan_df['last_credit_pull_d'], format='%b-%y')\n",
    "loan_df['earliest_cr_line'] = pd.to_datetime(loan_df['earliest_cr_line'], format='%b-%y')\n",
    "loan_df['issue_d'] = pd.to_datetime(loan_df['issue_d'], format='%b-%y')"
   ]
  },
  {
   "cell_type": "code",
   "execution_count": 27,
   "metadata": {
    "slideshow": {
     "slide_type": "skip"
    }
   },
   "outputs": [
    {
     "name": "stdout",
     "output_type": "stream",
     "text": [
      "<class 'pandas.core.frame.DataFrame'>\n",
      "Int64Index: 36433 entries, 1 to 39680\n",
      "Data columns (total 44 columns):\n",
      "id                         36433 non-null int64\n",
      "member_id                  36433 non-null int64\n",
      "loan_amnt                  36433 non-null int64\n",
      "funded_amnt                36433 non-null int64\n",
      "funded_amnt_inv            36433 non-null float64\n",
      "int_rate                   36433 non-null float64\n",
      "installment                36433 non-null float64\n",
      "grade                      36433 non-null object\n",
      "sub_grade                  36433 non-null object\n",
      "emp_title                  36433 non-null object\n",
      "emp_length                 36433 non-null int64\n",
      "home_ownership             36433 non-null object\n",
      "annual_inc                 36433 non-null float64\n",
      "verification_status        36433 non-null object\n",
      "issue_d                    36433 non-null datetime64[ns]\n",
      "loan_status                36433 non-null object\n",
      "url                        36433 non-null object\n",
      "purpose                    36433 non-null object\n",
      "title                      36433 non-null object\n",
      "zip_code                   36433 non-null object\n",
      "addr_state                 36433 non-null object\n",
      "dti                        36433 non-null float64\n",
      "delinq_2yrs                36433 non-null int64\n",
      "earliest_cr_line           36433 non-null datetime64[ns]\n",
      "inq_last_6mths             36433 non-null int64\n",
      "open_acc                   36433 non-null int64\n",
      "pub_rec                    36433 non-null int64\n",
      "revol_bal                  36433 non-null int64\n",
      "revol_util                 36433 non-null float64\n",
      "total_acc                  36433 non-null int64\n",
      "out_prncp                  36433 non-null float64\n",
      "out_prncp_inv              36433 non-null float64\n",
      "total_pymnt                36433 non-null float64\n",
      "total_pymnt_inv            36433 non-null float64\n",
      "total_rec_prncp            36433 non-null float64\n",
      "total_rec_int              36433 non-null float64\n",
      "total_rec_late_fee         36433 non-null float64\n",
      "recoveries                 36433 non-null float64\n",
      "collection_recovery_fee    36433 non-null float64\n",
      "last_pymnt_d               36433 non-null datetime64[ns]\n",
      "last_pymnt_amnt            36433 non-null float64\n",
      "last_credit_pull_d         36433 non-null datetime64[ns]\n",
      "pub_rec_bankruptcies       36433 non-null float64\n",
      "term_months                36433 non-null int64\n",
      "dtypes: datetime64[ns](4), float64(17), int64(12), object(11)\n",
      "memory usage: 12.5+ MB\n"
     ]
    }
   ],
   "source": [
    "# verify columns are converted to datetime\n",
    "loan_df.info()"
   ]
  },
  {
   "cell_type": "code",
   "execution_count": 28,
   "metadata": {
    "slideshow": {
     "slide_type": "skip"
    }
   },
   "outputs": [],
   "source": [
    "# splitting of month and year on issue date\n",
    "loan_df['issue_d_month'] = loan_df['issue_d'].dt.month\n",
    "loan_df['issue_d_year'] = loan_df['issue_d'].dt.year"
   ]
  },
  {
   "cell_type": "markdown",
   "metadata": {
    "slideshow": {
     "slide_type": "slide"
    }
   },
   "source": [
    "## The aim is to identify patterns which indicate if a person is likely to default\n",
    "EDA to understand how consumer attributes and loan attributes influence the tendency of default. <br>\n",
    "Consumer behaviour might be irrelevant for our analysis. <br>\n",
    "Target column will be loan_status = 'Fully Paid' or 'Charged Off'."
   ]
  },
  {
   "cell_type": "code",
   "execution_count": 29,
   "metadata": {
    "slideshow": {
     "slide_type": "skip"
    }
   },
   "outputs": [],
   "source": [
    "# Listing Consumer behaviour columns\n",
    "behaviour_columns = ['last_pymnt_d', 'last_pymnt_amnt', 'last_credit_pull_d', 'delinq_2yrs', \n",
    "                     'earliest_cr_line', 'inq_last_6mths', 'open_acc', 'pub_rec',\n",
    "                    'total_pymnt', 'total_pymnt_inv', 'total_rec_prncp', 'total_rec_int', 'total_rec_late_fee',\n",
    "                    'revol_bal', 'revol_util', 'total_acc', 'out_prncp', 'out_prncp_inv',\n",
    "                    'recoveries', 'collection_recovery_fee']\n",
    "# Listing usued columns for analysis\n",
    "# id and member_id are insignificant columns. can remove them.\n",
    "# title can be ignored too as purpose column drives our analysis better\n",
    "unused_columns = ['funded_amnt_inv', 'zip_code', 'addr_state', 'url', 'id', 'member_id', 'title']\n",
    "to_drop_columns = behaviour_columns + unused_columns"
   ]
  },
  {
   "cell_type": "code",
   "execution_count": 30,
   "metadata": {
    "slideshow": {
     "slide_type": "skip"
    }
   },
   "outputs": [
    {
     "data": {
      "text/plain": [
       "(36433, 19)"
      ]
     },
     "execution_count": 30,
     "metadata": {},
     "output_type": "execute_result"
    }
   ],
   "source": [
    "# droping usused columns\n",
    "loan_df = loan_df.drop(to_drop_columns, axis=1)\n",
    "loan_df.shape"
   ]
  },
  {
   "cell_type": "code",
   "execution_count": 31,
   "metadata": {
    "slideshow": {
     "slide_type": "skip"
    }
   },
   "outputs": [
    {
     "data": {
      "text/plain": [
       "Fully Paid     30424\n",
       "Charged Off     4943\n",
       "Current         1066\n",
       "Name: loan_status, dtype: int64"
      ]
     },
     "execution_count": 31,
     "metadata": {},
     "output_type": "execute_result"
    }
   ],
   "source": [
    "loan_df['loan_status'].value_counts()"
   ]
  },
  {
   "cell_type": "code",
   "execution_count": 32,
   "metadata": {
    "slideshow": {
     "slide_type": "skip"
    }
   },
   "outputs": [],
   "source": [
    "# keeping the original column before converting to numeric\n",
    "loan_df['loan_status_cat'] = loan_df['loan_status']"
   ]
  },
  {
   "cell_type": "code",
   "execution_count": 33,
   "metadata": {
    "slideshow": {
     "slide_type": "skip"
    }
   },
   "outputs": [
    {
     "data": {
      "text/plain": [
       "1        Charged Off\n",
       "3         Fully Paid\n",
       "4            Current\n",
       "5         Fully Paid\n",
       "6         Fully Paid\n",
       "            ...     \n",
       "39551     Fully Paid\n",
       "39562     Fully Paid\n",
       "39623    Charged Off\n",
       "39666    Charged Off\n",
       "39680     Fully Paid\n",
       "Name: loan_status_cat, Length: 36433, dtype: object"
      ]
     },
     "execution_count": 33,
     "metadata": {},
     "output_type": "execute_result"
    }
   ],
   "source": [
    "loan_df['loan_status_cat']"
   ]
  },
  {
   "cell_type": "markdown",
   "metadata": {
    "slideshow": {
     "slide_type": "skip"
    }
   },
   "source": [
    "### Reason to change loan_status to numerical value\n",
    "Loan status is categorical variable which is not suiatble for numerical computations. Hence we need to convert it to numeric variable, so that it could be used to calculate avergae and also used in various plots to display average rating. "
   ]
  },
  {
   "cell_type": "code",
   "execution_count": 34,
   "metadata": {
    "slideshow": {
     "slide_type": "skip"
    }
   },
   "outputs": [
    {
     "data": {
      "text/plain": [
       "1        1\n",
       "3        0\n",
       "5        0\n",
       "6        0\n",
       "7        0\n",
       "        ..\n",
       "39551    0\n",
       "39562    0\n",
       "39623    1\n",
       "39666    1\n",
       "39680    0\n",
       "Name: loan_status, Length: 35367, dtype: int64"
      ]
     },
     "execution_count": 34,
     "metadata": {},
     "output_type": "execute_result"
    }
   ],
   "source": [
    "# Filtering only Fully Paid and Charged Off loans, converting them to numeric\n",
    "loan_df = loan_df.loc[loan_df['loan_status'] != 'Current', :]\n",
    "loan_df['loan_status'] = loan_df['loan_status'].apply(lambda x: 1 if x=='Charged Off' else 0)\n",
    "loan_df['loan_status']"
   ]
  },
  {
   "cell_type": "code",
   "execution_count": 35,
   "metadata": {
    "slideshow": {
     "slide_type": "skip"
    }
   },
   "outputs": [
    {
     "data": {
      "text/plain": [
       "0    30424\n",
       "1     4943\n",
       "Name: loan_status, dtype: int64"
      ]
     },
     "execution_count": 35,
     "metadata": {},
     "output_type": "execute_result"
    }
   ],
   "source": [
    "loan_df['loan_status'].value_counts()"
   ]
  },
  {
   "cell_type": "code",
   "execution_count": 36,
   "metadata": {
    "scrolled": true,
    "slideshow": {
     "slide_type": "skip"
    }
   },
   "outputs": [
    {
     "name": "stdout",
     "output_type": "stream",
     "text": [
      "<class 'pandas.core.frame.DataFrame'>\n",
      "Int64Index: 35367 entries, 1 to 39680\n",
      "Data columns (total 20 columns):\n",
      "loan_amnt               35367 non-null int64\n",
      "funded_amnt             35367 non-null int64\n",
      "int_rate                35367 non-null float64\n",
      "installment             35367 non-null float64\n",
      "grade                   35367 non-null object\n",
      "sub_grade               35367 non-null object\n",
      "emp_title               35367 non-null object\n",
      "emp_length              35367 non-null int64\n",
      "home_ownership          35367 non-null object\n",
      "annual_inc              35367 non-null float64\n",
      "verification_status     35367 non-null object\n",
      "issue_d                 35367 non-null datetime64[ns]\n",
      "loan_status             35367 non-null int64\n",
      "purpose                 35367 non-null object\n",
      "dti                     35367 non-null float64\n",
      "pub_rec_bankruptcies    35367 non-null float64\n",
      "term_months             35367 non-null int64\n",
      "issue_d_month           35367 non-null int64\n",
      "issue_d_year            35367 non-null int64\n",
      "loan_status_cat         35367 non-null object\n",
      "dtypes: datetime64[ns](1), float64(5), int64(7), object(7)\n",
      "memory usage: 5.7+ MB\n"
     ]
    }
   ],
   "source": [
    "loan_df.info()"
   ]
  },
  {
   "cell_type": "markdown",
   "metadata": {
    "slideshow": {
     "slide_type": "skip"
    }
   },
   "source": [
    "### Copy Dataframe"
   ]
  },
  {
   "cell_type": "code",
   "execution_count": 37,
   "metadata": {
    "slideshow": {
     "slide_type": "skip"
    }
   },
   "outputs": [],
   "source": [
    "df = loan_df.copy()"
   ]
  },
  {
   "cell_type": "markdown",
   "metadata": {
    "slideshow": {
     "slide_type": "skip"
    }
   },
   "source": [
    "### What is the structure of your dataset?\n",
    "There are 35367 diamonds in the dataset with 20 features (int_rate, installment, grade, emp_length, purpose, annual_inc, loan_status, term_months, dti etc). Most variables are numeric in nature, but the variables grade, term_months, purpose, and home_ownership are ordered factor variables with the following levels.\n",
    "\n",
    "(worst) ——> (best)\n",
    "- grade: A, B, C, D, E, F, G\n",
    "- term_months: 30, 60\n",
    "- purpose: credit_card, car, small_business, other, wedding, debt_consolidation, home_improvement, major_purchase, medical, moving, vacation, house, renewable_energy, educational\n",
    "- home_ownership: RENT, OWN, MORTGAGE, OTHER"
   ]
  },
  {
   "cell_type": "markdown",
   "metadata": {
    "slideshow": {
     "slide_type": "skip"
    }
   },
   "source": [
    "### What is/are the main feature(s) of interest in your dataset?\n",
    "I'm most interested in figuring out what features are best for predicting the loan status (paid or default) in the dataset."
   ]
  },
  {
   "cell_type": "markdown",
   "metadata": {
    "slideshow": {
     "slide_type": "skip"
    }
   },
   "source": [
    "### What features in the dataset do you think will help support your investigation into your feature(s) of interest?\n",
    "I expect that interest rate and income will have the strongest effect on each loan: higher the interest rate and low income, highest rate of default. I also think that the other variables purpose, grade, loan term, employee length and debt to income ratio will also have impact on loan status though to a smaller degree."
   ]
  },
  {
   "cell_type": "markdown",
   "metadata": {
    "slideshow": {
     "slide_type": "skip"
    }
   },
   "source": [
    "## Univariate Exploration"
   ]
  },
  {
   "cell_type": "code",
   "execution_count": 38,
   "metadata": {
    "scrolled": true,
    "slideshow": {
     "slide_type": "skip"
    }
   },
   "outputs": [
    {
     "data": {
      "text/plain": [
       "count   35367.00\n",
       "mean        0.14\n",
       "std         0.35\n",
       "min         0.00\n",
       "25%         0.00\n",
       "50%         0.00\n",
       "75%         0.00\n",
       "max         1.00\n",
       "Name: loan_status, dtype: float64"
      ]
     },
     "execution_count": 38,
     "metadata": {},
     "output_type": "execute_result"
    }
   ],
   "source": [
    "# let's check the proportion of loan status who are defaults\n",
    "loan_df['loan_status'].describe()"
   ]
  },
  {
   "cell_type": "markdown",
   "metadata": {
    "slideshow": {
     "slide_type": "slide"
    }
   },
   "source": [
    "## Distribution of Loan Status\n",
    "Most of the loans are fully paid. <br> \n",
    "14% out of total loans are charged off."
   ]
  },
  {
   "cell_type": "code",
   "execution_count": 84,
   "metadata": {
    "scrolled": false,
    "slideshow": {
     "slide_type": "subslide"
    }
   },
   "outputs": [
    {
     "data": {
      "image/png": "[encoded data removed]",
      "text/plain": [
       "<Figure size 432x288 with 1 Axes>"
      ]
     },
     "metadata": {
      "needs_background": "light"
     },
     "output_type": "display_data"
    }
   ],
   "source": [
    "# let's plot the countplot for loan status category\n",
    "base_color = sns.color_palette()[0]\n",
    "sns.countplot(data = df, x = 'loan_status_cat', color = base_color);\n",
    "plt.title(\"Distribution of Loan Status\")\n",
    "plt.xlabel('Loan Status')\n",
    "plt.show();"
   ]
  },
  {
   "cell_type": "code",
   "execution_count": 40,
   "metadata": {
    "slideshow": {
     "slide_type": "skip"
    }
   },
   "outputs": [
    {
     "data": {
      "text/plain": [
       "count   35367.00\n",
       "mean       11.98\n",
       "std         3.70\n",
       "min         5.42\n",
       "25%         8.94\n",
       "50%        11.83\n",
       "75%        14.46\n",
       "max        24.40\n",
       "Name: int_rate, dtype: float64"
      ]
     },
     "execution_count": 40,
     "metadata": {},
     "output_type": "execute_result"
    }
   ],
   "source": [
    "# let's check the distribution of interest rate charged to customers\n",
    "df.int_rate.describe()"
   ]
  },
  {
   "cell_type": "code",
   "execution_count": 41,
   "metadata": {
    "scrolled": false,
    "slideshow": {
     "slide_type": "skip"
    }
   },
   "outputs": [
    {
     "data": {
      "image/png": "[encoded data removed]",
      "text/plain": [
       "<Figure size 432x288 with 1 Axes>"
      ]
     },
     "metadata": {
      "needs_background": "light"
     },
     "output_type": "display_data"
    }
   ],
   "source": [
    "# let's also plot box plot for interest rate\n",
    "df.int_rate.plot(kind='box');"
   ]
  },
  {
   "cell_type": "markdown",
   "metadata": {
    "slideshow": {
     "slide_type": "skip"
    }
   },
   "source": [
    "Median interest rate changed is around 12.5%. High interest rates are charged to few clients max 24%. There're outliers at the higher end as well."
   ]
  },
  {
   "cell_type": "code",
   "execution_count": 42,
   "metadata": {
    "slideshow": {
     "slide_type": "skip"
    }
   },
   "outputs": [
    {
     "data": {
      "text/plain": [
       "count     35367.00\n",
       "mean      69095.99\n",
       "std       63967.05\n",
       "min        4000.00\n",
       "25%       41500.00\n",
       "50%       60000.00\n",
       "75%       82500.00\n",
       "max     6000000.00\n",
       "Name: annual_inc, dtype: float64"
      ]
     },
     "execution_count": 42,
     "metadata": {},
     "output_type": "execute_result"
    }
   ],
   "source": [
    "# let's check the distribution of Annual Income\n",
    "df.annual_inc.describe()"
   ]
  },
  {
   "cell_type": "code",
   "execution_count": 43,
   "metadata": {
    "scrolled": true,
    "slideshow": {
     "slide_type": "skip"
    }
   },
   "outputs": [
    {
     "data": {
      "image/png": "[encoded data removed]",
      "text/plain": [
       "<Figure size 432x288 with 1 Axes>"
      ]
     },
     "metadata": {
      "needs_background": "light"
     },
     "output_type": "display_data"
    }
   ],
   "source": [
    "# let's also plot box plot for interest rate\n",
    "df.annual_inc.plot(kind='box');"
   ]
  },
  {
   "cell_type": "markdown",
   "metadata": {
    "slideshow": {
     "slide_type": "skip"
    }
   },
   "source": [
    "The median income is 60k and minimum is 4k. Looks like people with very low income were offered loans. ALso, there're high income earners as well. "
   ]
  },
  {
   "cell_type": "markdown",
   "metadata": {
    "slideshow": {
     "slide_type": "skip"
    }
   },
   "source": [
    "I'll now move on to the other variables in the dataset: grade, term_months, and purpose."
   ]
  },
  {
   "cell_type": "code",
   "execution_count": 44,
   "metadata": {
    "slideshow": {
     "slide_type": "skip"
    }
   },
   "outputs": [
    {
     "data": {
      "image/png": "[encoded data removed]",
      "text/plain": [
       "<Figure size 432x288 with 1 Axes>"
      ]
     },
     "metadata": {
      "needs_background": "light"
     },
     "output_type": "display_data"
    }
   ],
   "source": [
    "# grade\n",
    "level_order = ['A', 'B', 'C', 'D', 'E', 'F', 'G']\n",
    "sns.countplot(data = df, x = 'grade', color = base_color, order=level_order);"
   ]
  },
  {
   "cell_type": "markdown",
   "metadata": {
    "slideshow": {
     "slide_type": "skip"
    }
   },
   "source": [
    "Grade A and B are the most common to apply loans. This resonates with best to worst category of grade where low category have less number of loans."
   ]
  },
  {
   "cell_type": "code",
   "execution_count": 45,
   "metadata": {
    "slideshow": {
     "slide_type": "skip"
    }
   },
   "outputs": [
    {
     "data": {
      "image/png": "[encoded data removed]",
      "text/plain": [
       "<Figure size 432x288 with 1 Axes>"
      ]
     },
     "metadata": {
      "needs_background": "light"
     },
     "output_type": "display_data"
    }
   ],
   "source": [
    "# term_month\n",
    "sns.countplot(data = df, x = 'term_months', color = base_color);"
   ]
  },
  {
   "cell_type": "code",
   "execution_count": 46,
   "metadata": {
    "slideshow": {
     "slide_type": "skip"
    }
   },
   "outputs": [
    {
     "data": {
      "image/png": "[encoded data removed]",
      "text/plain": [
       "<Figure size 432x288 with 1 Axes>"
      ]
     },
     "metadata": {
      "needs_background": "light"
     },
     "output_type": "display_data"
    }
   ],
   "source": [
    "# Let's check the how purpose looks like\n",
    "sns.countplot(y='purpose', data=df, color = base_color);"
   ]
  },
  {
   "cell_type": "code",
   "execution_count": 47,
   "metadata": {
    "slideshow": {
     "slide_type": "skip"
    }
   },
   "outputs": [
    {
     "data": {
      "text/plain": [
       "debt_consolidation   0.48\n",
       "credit_card          0.13\n",
       "other                0.10\n",
       "home_improvement     0.07\n",
       "major_purchase       0.06\n",
       "car                  0.04\n",
       "small_business       0.04\n",
       "wedding              0.02\n",
       "medical              0.02\n",
       "moving               0.01\n",
       "vacation             0.01\n",
       "house                0.01\n",
       "educational          0.01\n",
       "renewable_energy     0.00\n",
       "Name: purpose, dtype: float64"
      ]
     },
     "execution_count": 47,
     "metadata": {},
     "output_type": "execute_result"
    }
   ],
   "source": [
    "#proportion of unique purpose in dataset\n",
    "df.purpose.value_counts() / df.shape[0]"
   ]
  },
  {
   "cell_type": "markdown",
   "metadata": {
    "slideshow": {
     "slide_type": "skip"
    }
   },
   "source": [
    "`debt_consolidation` makes up almost 48% of all data under Purpose category and would be interesting to see how it relates to other variables. "
   ]
  },
  {
   "cell_type": "markdown",
   "metadata": {
    "slideshow": {
     "slide_type": "skip"
    }
   },
   "source": [
    "### Discuss the distribution(s) of your variable(s) of interest. Were there any unusual points? Did you need to perform any transformations?<br>\n",
    "14% of total Loans are paid off. Loan status is a categorical variable which is transformed into numeric variable for computation."
   ]
  },
  {
   "cell_type": "markdown",
   "metadata": {
    "slideshow": {
     "slide_type": "skip"
    }
   },
   "source": [
    "### Of the features you investigated, were there any unusual distributions? Did you perform any operations on the data to tidy, adjust, or change the form of the data? If so, why did you do this?<br>\n",
    "Found few outliers in Interest rate and annual income. No transformation is done on these variables."
   ]
  },
  {
   "cell_type": "markdown",
   "metadata": {
    "slideshow": {
     "slide_type": "skip"
    }
   },
   "source": [
    "# Bivariate Exploration"
   ]
  },
  {
   "cell_type": "markdown",
   "metadata": {
    "slideshow": {
     "slide_type": "skip"
    }
   },
   "source": [
    "### Interest Rate Vs Loan Status\n",
    "High interest rates defaults more"
   ]
  },
  {
   "cell_type": "code",
   "execution_count": 48,
   "metadata": {
    "scrolled": true,
    "slideshow": {
     "slide_type": "skip"
    }
   },
   "outputs": [
    {
     "data": {
      "text/plain": [
       "count   35367.00\n",
       "mean       11.98\n",
       "std         3.70\n",
       "min         5.42\n",
       "25%         8.94\n",
       "50%        11.83\n",
       "75%        14.46\n",
       "max        24.40\n",
       "Name: int_rate, dtype: float64"
      ]
     },
     "execution_count": 48,
     "metadata": {},
     "output_type": "execute_result"
    }
   ],
   "source": [
    "# let's check interest rate descriptive stats\n",
    "df['int_rate'].describe()"
   ]
  },
  {
   "cell_type": "code",
   "execution_count": 49,
   "metadata": {
    "slideshow": {
     "slide_type": "skip"
    }
   },
   "outputs": [
    {
     "data": {
      "text/plain": [
       "10-15    16769\n",
       "5-10     11101\n",
       "15-20     6769\n",
       "20-25      728\n",
       "25-30        0\n",
       "0-5          0\n",
       "Name: int_rate_bin, dtype: int64"
      ]
     },
     "execution_count": 49,
     "metadata": {},
     "output_type": "execute_result"
    }
   ],
   "source": [
    "# binning int_rate\n",
    "df['int_rate_bin'] = pd.cut(df['int_rate'], \n",
    "                                [0,5,10,15,20,25,30], \n",
    "                                labels=['0-5','5-10','10-15','15-20','20-25','25-30'])\n",
    "df['int_rate_bin'].value_counts()"
   ]
  },
  {
   "cell_type": "code",
   "execution_count": 50,
   "metadata": {
    "scrolled": false,
    "slideshow": {
     "slide_type": "skip"
    }
   },
   "outputs": [
    {
     "data": {
      "image/png": "[encoded data removed]",
      "text/plain": [
       "<Figure size 432x288 with 1 Axes>"
      ]
     },
     "metadata": {
      "needs_background": "light"
     },
     "output_type": "display_data"
    }
   ],
   "source": [
    "# Plot between interest rate and loan status\n",
    "sns.barplot(x='int_rate_bin', y='loan_status', data=df, color = base_color)\n",
    "plt.title('Interest Rate Status')\n",
    "plt.xlabel('Interest Rate')\n",
    "plt.ylabel('Loan Status')\n",
    "plt.show()"
   ]
  },
  {
   "cell_type": "markdown",
   "metadata": {
    "slideshow": {
     "slide_type": "skip"
    }
   },
   "source": [
    "### Annual Income Vs Loan Status\n",
    "Clearly shows, low incomes has high default rates. Followed by Medium income earners."
   ]
  },
  {
   "cell_type": "code",
   "execution_count": 51,
   "metadata": {
    "scrolled": false,
    "slideshow": {
     "slide_type": "skip"
    }
   },
   "outputs": [
    {
     "data": {
      "text/plain": [
       "count      35367\n",
       "mean       69095\n",
       "std        63967\n",
       "min         4000\n",
       "25%        41500\n",
       "50%        60000\n",
       "75%        82500\n",
       "max      6000000\n",
       "Name: annual_inc, dtype: int64"
      ]
     },
     "execution_count": 51,
     "metadata": {},
     "output_type": "execute_result"
    }
   ],
   "source": [
    "# Continuous variable: annual_inc\n",
    "df['annual_inc_raw'] = df['annual_inc']\n",
    "df['annual_inc'].describe().astype('int')"
   ]
  },
  {
   "cell_type": "code",
   "execution_count": 52,
   "metadata": {
    "scrolled": true,
    "slideshow": {
     "slide_type": "skip"
    }
   },
   "outputs": [
    {
     "data": {
      "text/plain": [
       "medium       16625\n",
       "low          13721\n",
       "high          3709\n",
       "very high     1312\n",
       "Name: annual_inc, dtype: int64"
      ]
     },
     "execution_count": 52,
     "metadata": {},
     "output_type": "execute_result"
    }
   ],
   "source": [
    "# binning annual income\n",
    "def annual_inc(inc):\n",
    "    if inc <= 50000:\n",
    "        return 'low'\n",
    "    elif inc > 50000 and inc <=100000:\n",
    "        return 'medium'\n",
    "    elif inc > 100000 and inc <=150000:\n",
    "        return 'high'\n",
    "    else:\n",
    "        return 'very high'\n",
    "\n",
    "df['annual_inc'] = df['annual_inc'].apply(lambda x: annual_inc(x))\n",
    "df['annual_inc'].value_counts()"
   ]
  },
  {
   "cell_type": "code",
   "execution_count": 53,
   "metadata": {
    "slideshow": {
     "slide_type": "skip"
    }
   },
   "outputs": [
    {
     "data": {
      "text/html": [
       "<div>\n",
       "<style scoped>\n",
       "    .dataframe tbody tr th:only-of-type {\n",
       "        vertical-align: middle;\n",
       "    }\n",
       "\n",
       "    .dataframe tbody tr th {\n",
       "        vertical-align: top;\n",
       "    }\n",
       "\n",
       "    .dataframe thead th {\n",
       "        text-align: right;\n",
       "    }\n",
       "</style>\n",
       "<table border=\"1\" class=\"dataframe\">\n",
       "  <thead>\n",
       "    <tr style=\"text-align: right;\">\n",
       "      <th>loan_status_cat</th>\n",
       "      <th>Charged Off</th>\n",
       "      <th>Fully Paid</th>\n",
       "      <th>Total</th>\n",
       "    </tr>\n",
       "    <tr>\n",
       "      <th>annual_inc</th>\n",
       "      <th></th>\n",
       "      <th></th>\n",
       "      <th></th>\n",
       "    </tr>\n",
       "  </thead>\n",
       "  <tbody>\n",
       "    <tr>\n",
       "      <td>high</td>\n",
       "      <td>391</td>\n",
       "      <td>3318</td>\n",
       "      <td>3709</td>\n",
       "    </tr>\n",
       "    <tr>\n",
       "      <td>low</td>\n",
       "      <td>2229</td>\n",
       "      <td>11492</td>\n",
       "      <td>13721</td>\n",
       "    </tr>\n",
       "    <tr>\n",
       "      <td>medium</td>\n",
       "      <td>2184</td>\n",
       "      <td>14441</td>\n",
       "      <td>16625</td>\n",
       "    </tr>\n",
       "    <tr>\n",
       "      <td>very high</td>\n",
       "      <td>139</td>\n",
       "      <td>1173</td>\n",
       "      <td>1312</td>\n",
       "    </tr>\n",
       "    <tr>\n",
       "      <td>Total</td>\n",
       "      <td>4943</td>\n",
       "      <td>30424</td>\n",
       "      <td>35367</td>\n",
       "    </tr>\n",
       "  </tbody>\n",
       "</table>\n",
       "</div>"
      ],
      "text/plain": [
       "loan_status_cat  Charged Off  Fully Paid  Total\n",
       "annual_inc                                     \n",
       "high                     391        3318   3709\n",
       "low                     2229       11492  13721\n",
       "medium                  2184       14441  16625\n",
       "very high                139        1173   1312\n",
       "Total                   4943       30424  35367"
      ]
     },
     "execution_count": 53,
     "metadata": {},
     "output_type": "execute_result"
    }
   ],
   "source": [
    "# cross tab between annual_inc and loan_status\n",
    "pd.crosstab(df.annual_inc, df.loan_status_cat, margins=True, margins_name=\"Total\")"
   ]
  },
  {
   "cell_type": "code",
   "execution_count": 54,
   "metadata": {
    "scrolled": true,
    "slideshow": {
     "slide_type": "skip"
    }
   },
   "outputs": [
    {
     "data": {
      "image/png": "[encoded data removed]",
      "text/plain": [
       "<Figure size 432x288 with 1 Axes>"
      ]
     },
     "metadata": {
      "needs_background": "light"
     },
     "output_type": "display_data"
    }
   ],
   "source": [
    "## bar plot on categorical variable : annual_inc\n",
    "sns.barplot(x='annual_inc', y='loan_status', data=df, color = base_color)\n",
    "plt.title('Annual Income Default Status')\n",
    "plt.xlabel('Annual Income')\n",
    "plt.ylabel('Loan Status')\n",
    "plt.show()"
   ]
  },
  {
   "cell_type": "markdown",
   "metadata": {
    "slideshow": {
     "slide_type": "skip"
    }
   },
   "source": [
    "### Grade Vs Loan Status \n",
    " `Higher Grade Loans` have high percentage to default."
   ]
  },
  {
   "cell_type": "code",
   "execution_count": 55,
   "metadata": {
    "scrolled": false,
    "slideshow": {
     "slide_type": "skip"
    }
   },
   "outputs": [
    {
     "data": {
      "text/html": [
       "<div>\n",
       "<style scoped>\n",
       "    .dataframe tbody tr th:only-of-type {\n",
       "        vertical-align: middle;\n",
       "    }\n",
       "\n",
       "    .dataframe tbody tr th {\n",
       "        vertical-align: top;\n",
       "    }\n",
       "\n",
       "    .dataframe thead th {\n",
       "        text-align: right;\n",
       "    }\n",
       "</style>\n",
       "<table border=\"1\" class=\"dataframe\">\n",
       "  <thead>\n",
       "    <tr style=\"text-align: right;\">\n",
       "      <th>loan_status_cat</th>\n",
       "      <th>Charged Off</th>\n",
       "      <th>Fully Paid</th>\n",
       "    </tr>\n",
       "    <tr>\n",
       "      <th>grade</th>\n",
       "      <th></th>\n",
       "      <th></th>\n",
       "    </tr>\n",
       "  </thead>\n",
       "  <tbody>\n",
       "    <tr>\n",
       "      <td>A</td>\n",
       "      <td>0.06</td>\n",
       "      <td>0.94</td>\n",
       "    </tr>\n",
       "    <tr>\n",
       "      <td>B</td>\n",
       "      <td>0.12</td>\n",
       "      <td>0.88</td>\n",
       "    </tr>\n",
       "    <tr>\n",
       "      <td>C</td>\n",
       "      <td>0.16</td>\n",
       "      <td>0.84</td>\n",
       "    </tr>\n",
       "    <tr>\n",
       "      <td>D</td>\n",
       "      <td>0.21</td>\n",
       "      <td>0.79</td>\n",
       "    </tr>\n",
       "    <tr>\n",
       "      <td>E</td>\n",
       "      <td>0.26</td>\n",
       "      <td>0.74</td>\n",
       "    </tr>\n",
       "    <tr>\n",
       "      <td>F</td>\n",
       "      <td>0.32</td>\n",
       "      <td>0.68</td>\n",
       "    </tr>\n",
       "    <tr>\n",
       "      <td>G</td>\n",
       "      <td>0.33</td>\n",
       "      <td>0.67</td>\n",
       "    </tr>\n",
       "    <tr>\n",
       "      <td>Total</td>\n",
       "      <td>0.14</td>\n",
       "      <td>0.86</td>\n",
       "    </tr>\n",
       "  </tbody>\n",
       "</table>\n",
       "</div>"
      ],
      "text/plain": [
       "loan_status_cat  Charged Off  Fully Paid\n",
       "grade                                   \n",
       "A                       0.06        0.94\n",
       "B                       0.12        0.88\n",
       "C                       0.16        0.84\n",
       "D                       0.21        0.79\n",
       "E                       0.26        0.74\n",
       "F                       0.32        0.68\n",
       "G                       0.33        0.67\n",
       "Total                   0.14        0.86"
      ]
     },
     "execution_count": 55,
     "metadata": {},
     "output_type": "execute_result"
    }
   ],
   "source": [
    "# crosstab between loan status and grade\n",
    "pd.crosstab(df.grade, df.loan_status_cat, margins=True, margins_name=\"Total\", normalize=\"index\")"
   ]
  },
  {
   "cell_type": "code",
   "execution_count": 56,
   "metadata": {
    "scrolled": false,
    "slideshow": {
     "slide_type": "skip"
    }
   },
   "outputs": [
    {
     "data": {
      "image/png": "[encoded data removed]",
      "text/plain": [
       "<Figure size 432x288 with 1 Axes>"
      ]
     },
     "metadata": {
      "needs_background": "light"
     },
     "output_type": "display_data"
    }
   ],
   "source": [
    "# bar plot on categorical variable : grade\n",
    "sns.barplot(x='grade', y='loan_status', data=df, color = base_color, order = level_order)\n",
    "plt.title('Loan status for Grades')\n",
    "plt.xlabel('Grade')\n",
    "plt.ylabel('Loan Status')\n",
    "plt.show()"
   ]
  },
  {
   "cell_type": "markdown",
   "metadata": {
    "slideshow": {
     "slide_type": "skip"
    }
   },
   "source": [
    "### Term Vs Loan Status \n",
    "Overall `60` months loan term tends to default more than twice as compared to `36` months."
   ]
  },
  {
   "cell_type": "code",
   "execution_count": 57,
   "metadata": {
    "slideshow": {
     "slide_type": "skip"
    }
   },
   "outputs": [
    {
     "data": {
      "text/html": [
       "<div>\n",
       "<style scoped>\n",
       "    .dataframe tbody tr th:only-of-type {\n",
       "        vertical-align: middle;\n",
       "    }\n",
       "\n",
       "    .dataframe tbody tr th {\n",
       "        vertical-align: top;\n",
       "    }\n",
       "\n",
       "    .dataframe thead th {\n",
       "        text-align: right;\n",
       "    }\n",
       "</style>\n",
       "<table border=\"1\" class=\"dataframe\">\n",
       "  <thead>\n",
       "    <tr style=\"text-align: right;\">\n",
       "      <th>loan_status_cat</th>\n",
       "      <th>Charged Off</th>\n",
       "      <th>Fully Paid</th>\n",
       "    </tr>\n",
       "    <tr>\n",
       "      <th>term_months</th>\n",
       "      <th></th>\n",
       "      <th></th>\n",
       "    </tr>\n",
       "  </thead>\n",
       "  <tbody>\n",
       "    <tr>\n",
       "      <td>36</td>\n",
       "      <td>0.10</td>\n",
       "      <td>0.90</td>\n",
       "    </tr>\n",
       "    <tr>\n",
       "      <td>60</td>\n",
       "      <td>0.25</td>\n",
       "      <td>0.75</td>\n",
       "    </tr>\n",
       "    <tr>\n",
       "      <td>Total</td>\n",
       "      <td>0.14</td>\n",
       "      <td>0.86</td>\n",
       "    </tr>\n",
       "  </tbody>\n",
       "</table>\n",
       "</div>"
      ],
      "text/plain": [
       "loan_status_cat  Charged Off  Fully Paid\n",
       "term_months                             \n",
       "36                      0.10        0.90\n",
       "60                      0.25        0.75\n",
       "Total                   0.14        0.86"
      ]
     },
     "execution_count": 57,
     "metadata": {},
     "output_type": "execute_result"
    }
   ],
   "source": [
    "# crosstab between month term and loan status. Showing percentage of defaults\n",
    "pd.crosstab(df.term_months, df.loan_status_cat, margins=True, margins_name=\"Total\", normalize=\"index\")"
   ]
  },
  {
   "cell_type": "code",
   "execution_count": 58,
   "metadata": {
    "slideshow": {
     "slide_type": "skip"
    }
   },
   "outputs": [
    {
     "data": {
      "image/png": "[encoded data removed]",
      "text/plain": [
       "<Figure size 432x288 with 1 Axes>"
      ]
     },
     "metadata": {
      "needs_background": "light"
     },
     "output_type": "display_data"
    }
   ],
   "source": [
    "# bar plot on categorical variable : term_months\n",
    "plt.title('Loan status for Term')\n",
    "sns.barplot(x='term_months', y='loan_status', data=df, color = base_color)\n",
    "plt.xlabel('Terms in months')\n",
    "plt.ylabel('Loan Status')\n",
    "plt.show()"
   ]
  },
  {
   "cell_type": "markdown",
   "metadata": {
    "slideshow": {
     "slide_type": "skip"
    }
   },
   "source": [
    "### Loan Purpose Vs Status\n",
    "Clients having `small_business` as purpose defaults the most followed by `renewable_energy` and `house`."
   ]
  },
  {
   "cell_type": "code",
   "execution_count": 59,
   "metadata": {
    "slideshow": {
     "slide_type": "skip"
    }
   },
   "outputs": [
    {
     "data": {
      "text/html": [
       "<div>\n",
       "<style scoped>\n",
       "    .dataframe tbody tr th:only-of-type {\n",
       "        vertical-align: middle;\n",
       "    }\n",
       "\n",
       "    .dataframe tbody tr th {\n",
       "        vertical-align: top;\n",
       "    }\n",
       "\n",
       "    .dataframe thead th {\n",
       "        text-align: right;\n",
       "    }\n",
       "</style>\n",
       "<table border=\"1\" class=\"dataframe\">\n",
       "  <thead>\n",
       "    <tr style=\"text-align: right;\">\n",
       "      <th>loan_status_cat</th>\n",
       "      <th>Charged Off</th>\n",
       "      <th>Fully Paid</th>\n",
       "    </tr>\n",
       "    <tr>\n",
       "      <th>purpose</th>\n",
       "      <th></th>\n",
       "      <th></th>\n",
       "    </tr>\n",
       "  </thead>\n",
       "  <tbody>\n",
       "    <tr>\n",
       "      <td>car</td>\n",
       "      <td>0.11</td>\n",
       "      <td>0.89</td>\n",
       "    </tr>\n",
       "    <tr>\n",
       "      <td>credit_card</td>\n",
       "      <td>0.10</td>\n",
       "      <td>0.90</td>\n",
       "    </tr>\n",
       "    <tr>\n",
       "      <td>debt_consolidation</td>\n",
       "      <td>0.15</td>\n",
       "      <td>0.85</td>\n",
       "    </tr>\n",
       "    <tr>\n",
       "      <td>educational</td>\n",
       "      <td>0.16</td>\n",
       "      <td>0.84</td>\n",
       "    </tr>\n",
       "    <tr>\n",
       "      <td>home_improvement</td>\n",
       "      <td>0.11</td>\n",
       "      <td>0.89</td>\n",
       "    </tr>\n",
       "    <tr>\n",
       "      <td>house</td>\n",
       "      <td>0.16</td>\n",
       "      <td>0.84</td>\n",
       "    </tr>\n",
       "    <tr>\n",
       "      <td>major_purchase</td>\n",
       "      <td>0.10</td>\n",
       "      <td>0.90</td>\n",
       "    </tr>\n",
       "    <tr>\n",
       "      <td>medical</td>\n",
       "      <td>0.15</td>\n",
       "      <td>0.85</td>\n",
       "    </tr>\n",
       "    <tr>\n",
       "      <td>moving</td>\n",
       "      <td>0.15</td>\n",
       "      <td>0.85</td>\n",
       "    </tr>\n",
       "    <tr>\n",
       "      <td>other</td>\n",
       "      <td>0.16</td>\n",
       "      <td>0.84</td>\n",
       "    </tr>\n",
       "    <tr>\n",
       "      <td>renewable_energy</td>\n",
       "      <td>0.17</td>\n",
       "      <td>0.83</td>\n",
       "    </tr>\n",
       "    <tr>\n",
       "      <td>small_business</td>\n",
       "      <td>0.26</td>\n",
       "      <td>0.74</td>\n",
       "    </tr>\n",
       "    <tr>\n",
       "      <td>vacation</td>\n",
       "      <td>0.15</td>\n",
       "      <td>0.85</td>\n",
       "    </tr>\n",
       "    <tr>\n",
       "      <td>wedding</td>\n",
       "      <td>0.10</td>\n",
       "      <td>0.90</td>\n",
       "    </tr>\n",
       "    <tr>\n",
       "      <td>Total</td>\n",
       "      <td>0.14</td>\n",
       "      <td>0.86</td>\n",
       "    </tr>\n",
       "  </tbody>\n",
       "</table>\n",
       "</div>"
      ],
      "text/plain": [
       "loan_status_cat     Charged Off  Fully Paid\n",
       "purpose                                    \n",
       "car                        0.11        0.89\n",
       "credit_card                0.10        0.90\n",
       "debt_consolidation         0.15        0.85\n",
       "educational                0.16        0.84\n",
       "home_improvement           0.11        0.89\n",
       "house                      0.16        0.84\n",
       "major_purchase             0.10        0.90\n",
       "medical                    0.15        0.85\n",
       "moving                     0.15        0.85\n",
       "other                      0.16        0.84\n",
       "renewable_energy           0.17        0.83\n",
       "small_business             0.26        0.74\n",
       "vacation                   0.15        0.85\n",
       "wedding                    0.10        0.90\n",
       "Total                      0.14        0.86"
      ]
     },
     "execution_count": 59,
     "metadata": {},
     "output_type": "execute_result"
    }
   ],
   "source": [
    "# crosstab between purpose and loan_status\n",
    "pd.crosstab(df.purpose, df.loan_status_cat, margins=True, margins_name=\"Total\", normalize=\"index\")"
   ]
  },
  {
   "cell_type": "code",
   "execution_count": 60,
   "metadata": {
    "scrolled": true,
    "slideshow": {
     "slide_type": "skip"
    }
   },
   "outputs": [
    {
     "data": {
      "image/png": "[encoded data removed]",
      "text/plain": [
       "<Figure size 864x360 with 1 Axes>"
      ]
     },
     "metadata": {
      "needs_background": "light"
     },
     "output_type": "display_data"
    }
   ],
   "source": [
    "## bar plot on categorical variable : purpose\n",
    "plt.figure(figsize = [12, 5])\n",
    "sns.barplot(y='purpose', x='loan_status', data=df, color = base_color)\n",
    "plt.title('Loan Purpose and Status')\n",
    "plt.xlabel('Purpose')\n",
    "plt.ylabel('Loan Status')\n",
    "plt.show()"
   ]
  },
  {
   "cell_type": "markdown",
   "metadata": {
    "slideshow": {
     "slide_type": "skip"
    }
   },
   "source": [
    "### Loan Year Vs Status"
   ]
  },
  {
   "cell_type": "code",
   "execution_count": 61,
   "metadata": {
    "slideshow": {
     "slide_type": "skip"
    }
   },
   "outputs": [
    {
     "data": {
      "text/html": [
       "<div>\n",
       "<style scoped>\n",
       "    .dataframe tbody tr th:only-of-type {\n",
       "        vertical-align: middle;\n",
       "    }\n",
       "\n",
       "    .dataframe tbody tr th {\n",
       "        vertical-align: top;\n",
       "    }\n",
       "\n",
       "    .dataframe thead th {\n",
       "        text-align: right;\n",
       "    }\n",
       "</style>\n",
       "<table border=\"1\" class=\"dataframe\">\n",
       "  <thead>\n",
       "    <tr style=\"text-align: right;\">\n",
       "      <th>issue_d_year</th>\n",
       "      <th>2007</th>\n",
       "      <th>2008</th>\n",
       "      <th>2009</th>\n",
       "      <th>2010</th>\n",
       "      <th>2011</th>\n",
       "      <th>Total</th>\n",
       "    </tr>\n",
       "    <tr>\n",
       "      <th>loan_status_cat</th>\n",
       "      <th></th>\n",
       "      <th></th>\n",
       "      <th></th>\n",
       "      <th></th>\n",
       "      <th></th>\n",
       "      <th></th>\n",
       "    </tr>\n",
       "  </thead>\n",
       "  <tbody>\n",
       "    <tr>\n",
       "      <td>Charged Off</td>\n",
       "      <td>2</td>\n",
       "      <td>160</td>\n",
       "      <td>541</td>\n",
       "      <td>1309</td>\n",
       "      <td>2931</td>\n",
       "      <td>4943</td>\n",
       "    </tr>\n",
       "    <tr>\n",
       "      <td>Fully Paid</td>\n",
       "      <td>4</td>\n",
       "      <td>893</td>\n",
       "      <td>3882</td>\n",
       "      <td>9486</td>\n",
       "      <td>16159</td>\n",
       "      <td>30424</td>\n",
       "    </tr>\n",
       "    <tr>\n",
       "      <td>Total</td>\n",
       "      <td>6</td>\n",
       "      <td>1053</td>\n",
       "      <td>4423</td>\n",
       "      <td>10795</td>\n",
       "      <td>19090</td>\n",
       "      <td>35367</td>\n",
       "    </tr>\n",
       "  </tbody>\n",
       "</table>\n",
       "</div>"
      ],
      "text/plain": [
       "issue_d_year     2007  2008  2009   2010   2011  Total\n",
       "loan_status_cat                                       \n",
       "Charged Off         2   160   541   1309   2931   4943\n",
       "Fully Paid          4   893  3882   9486  16159  30424\n",
       "Total               6  1053  4423  10795  19090  35367"
      ]
     },
     "execution_count": 61,
     "metadata": {},
     "output_type": "execute_result"
    }
   ],
   "source": [
    "# crosstab between loan status and issue year\n",
    "pd.crosstab(df.loan_status_cat, df.issue_d_year, margins=True, margins_name=\"Total\")"
   ]
  },
  {
   "cell_type": "code",
   "execution_count": 62,
   "metadata": {
    "slideshow": {
     "slide_type": "skip"
    }
   },
   "outputs": [
    {
     "data": {
      "image/png": "[encoded data removed]",
      "text/plain": [
       "<Figure size 432x288 with 1 Axes>"
      ]
     },
     "metadata": {
      "needs_background": "light"
     },
     "output_type": "display_data"
    }
   ],
   "source": [
    "## bar plot on categorical variable : issue_d_year\n",
    "sns.barplot(x='issue_d_year', y='loan_status', data=df,  color = base_color)\n",
    "plt.show()"
   ]
  },
  {
   "cell_type": "markdown",
   "metadata": {
    "slideshow": {
     "slide_type": "skip"
    }
   },
   "source": [
    "The default rate had suddenly increased in 2011, inspite of reducing from 2008 till 2010"
   ]
  },
  {
   "cell_type": "markdown",
   "metadata": {
    "slideshow": {
     "slide_type": "skip"
    }
   },
   "source": [
    "### Home Owners Vs Loan Status "
   ]
  },
  {
   "cell_type": "code",
   "execution_count": 63,
   "metadata": {
    "scrolled": true,
    "slideshow": {
     "slide_type": "skip"
    }
   },
   "outputs": [
    {
     "data": {
      "image/png": "[encoded data removed]",
      "text/plain": [
       "<Figure size 432x288 with 1 Axes>"
      ]
     },
     "metadata": {
      "needs_background": "light"
     },
     "output_type": "display_data"
    }
   ],
   "source": [
    "## bar plot on categorical variable : home_ownership\n",
    "sns.barplot(x='home_ownership', y='loan_status', data=df, color = base_color)\n",
    "plt.show()"
   ]
  },
  {
   "cell_type": "markdown",
   "metadata": {
    "slideshow": {
     "slide_type": "skip"
    }
   },
   "source": [
    "Clients having `OTHER` as home ownership could be considered under High Risk Category."
   ]
  },
  {
   "cell_type": "markdown",
   "metadata": {
    "slideshow": {
     "slide_type": "skip"
    }
   },
   "source": [
    "### Employment Length Vs Loan Status "
   ]
  },
  {
   "cell_type": "code",
   "execution_count": 64,
   "metadata": {
    "scrolled": true,
    "slideshow": {
     "slide_type": "skip"
    }
   },
   "outputs": [
    {
     "data": {
      "text/html": [
       "<div>\n",
       "<style scoped>\n",
       "    .dataframe tbody tr th:only-of-type {\n",
       "        vertical-align: middle;\n",
       "    }\n",
       "\n",
       "    .dataframe tbody tr th {\n",
       "        vertical-align: top;\n",
       "    }\n",
       "\n",
       "    .dataframe thead th {\n",
       "        text-align: right;\n",
       "    }\n",
       "</style>\n",
       "<table border=\"1\" class=\"dataframe\">\n",
       "  <thead>\n",
       "    <tr style=\"text-align: right;\">\n",
       "      <th>emp_length</th>\n",
       "      <th>0</th>\n",
       "      <th>1</th>\n",
       "      <th>2</th>\n",
       "      <th>3</th>\n",
       "      <th>4</th>\n",
       "      <th>5</th>\n",
       "      <th>6</th>\n",
       "      <th>7</th>\n",
       "      <th>8</th>\n",
       "      <th>9</th>\n",
       "      <th>10</th>\n",
       "    </tr>\n",
       "    <tr>\n",
       "      <th>loan_status_cat</th>\n",
       "      <th></th>\n",
       "      <th></th>\n",
       "      <th></th>\n",
       "      <th></th>\n",
       "      <th></th>\n",
       "      <th></th>\n",
       "      <th></th>\n",
       "      <th></th>\n",
       "      <th></th>\n",
       "      <th></th>\n",
       "      <th></th>\n",
       "    </tr>\n",
       "  </thead>\n",
       "  <tbody>\n",
       "    <tr>\n",
       "      <td>Charged Off</td>\n",
       "      <td>0.11</td>\n",
       "      <td>0.08</td>\n",
       "      <td>0.11</td>\n",
       "      <td>0.11</td>\n",
       "      <td>0.09</td>\n",
       "      <td>0.09</td>\n",
       "      <td>0.06</td>\n",
       "      <td>0.05</td>\n",
       "      <td>0.04</td>\n",
       "      <td>0.03</td>\n",
       "      <td>0.25</td>\n",
       "    </tr>\n",
       "    <tr>\n",
       "      <td>Fully Paid</td>\n",
       "      <td>0.11</td>\n",
       "      <td>0.08</td>\n",
       "      <td>0.12</td>\n",
       "      <td>0.11</td>\n",
       "      <td>0.09</td>\n",
       "      <td>0.09</td>\n",
       "      <td>0.06</td>\n",
       "      <td>0.05</td>\n",
       "      <td>0.04</td>\n",
       "      <td>0.03</td>\n",
       "      <td>0.22</td>\n",
       "    </tr>\n",
       "    <tr>\n",
       "      <td>Total</td>\n",
       "      <td>0.11</td>\n",
       "      <td>0.08</td>\n",
       "      <td>0.12</td>\n",
       "      <td>0.11</td>\n",
       "      <td>0.09</td>\n",
       "      <td>0.09</td>\n",
       "      <td>0.06</td>\n",
       "      <td>0.05</td>\n",
       "      <td>0.04</td>\n",
       "      <td>0.03</td>\n",
       "      <td>0.23</td>\n",
       "    </tr>\n",
       "  </tbody>\n",
       "</table>\n",
       "</div>"
      ],
      "text/plain": [
       "emp_length        0    1    2    3    4    5    6    7    8    9    10\n",
       "loan_status_cat                                                       \n",
       "Charged Off     0.11 0.08 0.11 0.11 0.09 0.09 0.06 0.05 0.04 0.03 0.25\n",
       "Fully Paid      0.11 0.08 0.12 0.11 0.09 0.09 0.06 0.05 0.04 0.03 0.22\n",
       "Total           0.11 0.08 0.12 0.11 0.09 0.09 0.06 0.05 0.04 0.03 0.23"
      ]
     },
     "execution_count": 64,
     "metadata": {},
     "output_type": "execute_result"
    }
   ],
   "source": [
    "# crosstab between emp_length and loan_status\n",
    "pd.crosstab(df.loan_status_cat, df.emp_length, margins=True, margins_name=\"Total\", normalize=\"index\")"
   ]
  },
  {
   "cell_type": "code",
   "execution_count": 65,
   "metadata": {
    "slideshow": {
     "slide_type": "skip"
    }
   },
   "outputs": [
    {
     "data": {
      "image/png": "[encoded data removed]",
      "text/plain": [
       "<Figure size 720x360 with 1 Axes>"
      ]
     },
     "metadata": {
      "needs_background": "light"
     },
     "output_type": "display_data"
    }
   ],
   "source": [
    "## bar plot on categorical variable : emp_length\n",
    "plt.figure(figsize=(10,5))\n",
    "sns.barplot(x='emp_length', y='loan_status', data=df, color = base_color)\n",
    "plt.show()"
   ]
  },
  {
   "cell_type": "markdown",
   "metadata": {
    "slideshow": {
     "slide_type": "skip"
    }
   },
   "source": [
    "`Employment length` is not much of a predictor of default"
   ]
  },
  {
   "cell_type": "markdown",
   "metadata": {
    "slideshow": {
     "slide_type": "skip"
    }
   },
   "source": [
    "### Loan Amount Vs Loan Status\n",
    "Very high and high amount loans tend to have more defaulters¶"
   ]
  },
  {
   "cell_type": "code",
   "execution_count": 66,
   "metadata": {
    "slideshow": {
     "slide_type": "skip"
    }
   },
   "outputs": [
    {
     "data": {
      "text/plain": [
       "count    35367\n",
       "mean     11133\n",
       "std       7326\n",
       "min        500\n",
       "25%       5500\n",
       "50%      10000\n",
       "75%      15000\n",
       "max      35000\n",
       "Name: loan_amnt, dtype: int64"
      ]
     },
     "execution_count": 66,
     "metadata": {},
     "output_type": "execute_result"
    }
   ],
   "source": [
    "df['loan_amnt'].describe().astype('int')"
   ]
  },
  {
   "cell_type": "code",
   "execution_count": 67,
   "metadata": {
    "slideshow": {
     "slide_type": "skip"
    }
   },
   "outputs": [
    {
     "data": {
      "text/plain": [
       "medium       11241\n",
       "low           8939\n",
       "very high     7987\n",
       "high          7200\n",
       "Name: loan_amnt_bin, dtype: int64"
      ]
     },
     "execution_count": 67,
     "metadata": {},
     "output_type": "execute_result"
    }
   ],
   "source": [
    "# binning loan_amnt\n",
    "def loan_amnt(amt):\n",
    "    if amt <= 5500:\n",
    "        return 'low'\n",
    "    elif amt > 5500 and amt <=10000:\n",
    "        return 'medium'\n",
    "    elif amt > 10000 and amt <=15000:\n",
    "        return 'high'\n",
    "    else:\n",
    "        return 'very high'\n",
    "\n",
    "df['loan_amnt_bin'] = df['loan_amnt'].apply(lambda x: loan_amnt(x))\n",
    "df['loan_amnt_bin'].value_counts()"
   ]
  },
  {
   "cell_type": "code",
   "execution_count": 68,
   "metadata": {
    "slideshow": {
     "slide_type": "skip"
    }
   },
   "outputs": [
    {
     "data": {
      "image/png": "[encoded data removed]",
      "text/plain": [
       "<Figure size 432x288 with 1 Axes>"
      ]
     },
     "metadata": {
      "needs_background": "light"
     },
     "output_type": "display_data"
    }
   ],
   "source": [
    "## bar plot on categorical variable : loan_amnt_bin\n",
    "loan_order = ['low', 'medium', 'high', 'very high']\n",
    "sns.barplot(x='loan_amnt_bin', y='loan_status', data=df, color = base_color, order = loan_order)\n",
    "plt.title('Loan Amount Default Status')\n",
    "plt.xlabel('Loan Amount')\n",
    "plt.ylabel('Status')\n",
    "plt.show()"
   ]
  },
  {
   "cell_type": "markdown",
   "metadata": {
    "slideshow": {
     "slide_type": "skip"
    }
   },
   "source": [
    "### Debt To Income Ratio Vs Loan Status"
   ]
  },
  {
   "cell_type": "code",
   "execution_count": 69,
   "metadata": {
    "slideshow": {
     "slide_type": "skip"
    }
   },
   "outputs": [
    {
     "data": {
      "text/plain": [
       "count   35367.00\n",
       "mean       13.40\n",
       "std         6.64\n",
       "min         0.00\n",
       "25%         8.32\n",
       "50%        13.50\n",
       "75%        18.64\n",
       "max        29.99\n",
       "Name: dti, dtype: float64"
      ]
     },
     "execution_count": 69,
     "metadata": {},
     "output_type": "execute_result"
    }
   ],
   "source": [
    "df['dti'].describe()"
   ]
  },
  {
   "cell_type": "code",
   "execution_count": 70,
   "metadata": {
    "slideshow": {
     "slide_type": "skip"
    }
   },
   "outputs": [
    {
     "data": {
      "text/plain": [
       "10-15    8901\n",
       "15-20    8170\n",
       "5-10     7125\n",
       "20-25    6164\n",
       "0-5      4292\n",
       "25-30     575\n",
       "Name: dti_bin, dtype: int64"
      ]
     },
     "execution_count": 70,
     "metadata": {},
     "output_type": "execute_result"
    }
   ],
   "source": [
    "# binning debt to income ratio\n",
    "df['dti_bin'] = pd.cut(df['dti'], \n",
    "                                [0,5,10,15,20,25,30], \n",
    "                                labels=['0-5','5-10','10-15','15-20','20-25','25-30'])\n",
    "df['dti_bin'].value_counts()"
   ]
  },
  {
   "cell_type": "code",
   "execution_count": 71,
   "metadata": {
    "slideshow": {
     "slide_type": "skip"
    }
   },
   "outputs": [
    {
     "data": {
      "image/png": "[encoded data removed]",
      "text/plain": [
       "<Figure size 432x288 with 1 Axes>"
      ]
     },
     "metadata": {
      "needs_background": "light"
     },
     "output_type": "display_data"
    }
   ],
   "source": [
    "## bar plot on categorical variable : dti_bin\n",
    "sns.barplot(x='dti_bin', y='loan_status', data=df, color = base_color)\n",
    "plt.show()"
   ]
  },
  {
   "cell_type": "markdown",
   "metadata": {
    "slideshow": {
     "slide_type": "skip"
    }
   },
   "source": [
    "Most of the defaulters have debt to income ratio between 20 to 25 %. But there's not much of difference between the lower and highest end of debts. There's an increase in trend from lower to higher end with an exception of decrease in default rate for highest level of debt-income-ratio."
   ]
  },
  {
   "cell_type": "markdown",
   "metadata": {
    "slideshow": {
     "slide_type": "skip"
    }
   },
   "source": [
    "### Installment Vs Loan Status"
   ]
  },
  {
   "cell_type": "code",
   "execution_count": 72,
   "metadata": {
    "slideshow": {
     "slide_type": "skip"
    }
   },
   "outputs": [],
   "source": [
    "# installment\n",
    "def installment(n):\n",
    "    if n <= 200:\n",
    "        return 'low'\n",
    "    elif n > 200 and n <=400:\n",
    "        return 'medium'\n",
    "    elif n > 400 and n <=600:\n",
    "        return 'high'\n",
    "    else:\n",
    "        return 'very high'\n",
    "    \n",
    "df['installment'] = df['installment'].apply(lambda x: installment(x))"
   ]
  },
  {
   "cell_type": "code",
   "execution_count": 73,
   "metadata": {
    "scrolled": true,
    "slideshow": {
     "slide_type": "skip"
    }
   },
   "outputs": [
    {
     "data": {
      "image/png": "[encoded data removed]",
      "text/plain": [
       "<Figure size 432x288 with 1 Axes>"
      ]
     },
     "metadata": {
      "needs_background": "light"
     },
     "output_type": "display_data"
    }
   ],
   "source": [
    "## bar plot\n",
    "sns.barplot(x='installment', y='loan_status', data=df, color = base_color)\n",
    "plt.show();"
   ]
  },
  {
   "cell_type": "markdown",
   "metadata": {
    "slideshow": {
     "slide_type": "skip"
    }
   },
   "source": [
    "Higher the installment amount, higher is the default rate. But the difference between low to very high defaults is not very significant it's approx 4% rate of default."
   ]
  },
  {
   "cell_type": "markdown",
   "metadata": {
    "slideshow": {
     "slide_type": "skip"
    }
   },
   "source": [
    "### Loan Purpose Vs Interest Rate"
   ]
  },
  {
   "cell_type": "code",
   "execution_count": 74,
   "metadata": {
    "slideshow": {
     "slide_type": "skip"
    }
   },
   "outputs": [
    {
     "data": {
      "text/html": [
       "<div>\n",
       "<style scoped>\n",
       "    .dataframe tbody tr th:only-of-type {\n",
       "        vertical-align: middle;\n",
       "    }\n",
       "\n",
       "    .dataframe tbody tr th {\n",
       "        vertical-align: top;\n",
       "    }\n",
       "\n",
       "    .dataframe thead th {\n",
       "        text-align: right;\n",
       "    }\n",
       "</style>\n",
       "<table border=\"1\" class=\"dataframe\">\n",
       "  <thead>\n",
       "    <tr style=\"text-align: right;\">\n",
       "      <th>int_rate_bin</th>\n",
       "      <th>5-10</th>\n",
       "      <th>10-15</th>\n",
       "      <th>15-20</th>\n",
       "      <th>20-25</th>\n",
       "    </tr>\n",
       "    <tr>\n",
       "      <th>purpose</th>\n",
       "      <th></th>\n",
       "      <th></th>\n",
       "      <th></th>\n",
       "      <th></th>\n",
       "    </tr>\n",
       "  </thead>\n",
       "  <tbody>\n",
       "    <tr>\n",
       "      <td>car</td>\n",
       "      <td>47.00</td>\n",
       "      <td>40.00</td>\n",
       "      <td>12.00</td>\n",
       "      <td>0.00</td>\n",
       "    </tr>\n",
       "    <tr>\n",
       "      <td>credit_card</td>\n",
       "      <td>34.00</td>\n",
       "      <td>49.00</td>\n",
       "      <td>16.00</td>\n",
       "      <td>2.00</td>\n",
       "    </tr>\n",
       "    <tr>\n",
       "      <td>debt_consolidation</td>\n",
       "      <td>27.00</td>\n",
       "      <td>49.00</td>\n",
       "      <td>22.00</td>\n",
       "      <td>3.00</td>\n",
       "    </tr>\n",
       "    <tr>\n",
       "      <td>educational</td>\n",
       "      <td>27.00</td>\n",
       "      <td>64.00</td>\n",
       "      <td>9.00</td>\n",
       "      <td>0.00</td>\n",
       "    </tr>\n",
       "    <tr>\n",
       "      <td>home_improvement</td>\n",
       "      <td>39.00</td>\n",
       "      <td>44.00</td>\n",
       "      <td>16.00</td>\n",
       "      <td>2.00</td>\n",
       "    </tr>\n",
       "    <tr>\n",
       "      <td>house</td>\n",
       "      <td>32.00</td>\n",
       "      <td>41.00</td>\n",
       "      <td>23.00</td>\n",
       "      <td>3.00</td>\n",
       "    </tr>\n",
       "    <tr>\n",
       "      <td>major_purchase</td>\n",
       "      <td>44.00</td>\n",
       "      <td>42.00</td>\n",
       "      <td>14.00</td>\n",
       "      <td>1.00</td>\n",
       "    </tr>\n",
       "    <tr>\n",
       "      <td>medical</td>\n",
       "      <td>35.00</td>\n",
       "      <td>46.00</td>\n",
       "      <td>17.00</td>\n",
       "      <td>1.00</td>\n",
       "    </tr>\n",
       "    <tr>\n",
       "      <td>moving</td>\n",
       "      <td>35.00</td>\n",
       "      <td>47.00</td>\n",
       "      <td>16.00</td>\n",
       "      <td>2.00</td>\n",
       "    </tr>\n",
       "    <tr>\n",
       "      <td>other</td>\n",
       "      <td>32.00</td>\n",
       "      <td>50.00</td>\n",
       "      <td>17.00</td>\n",
       "      <td>1.00</td>\n",
       "    </tr>\n",
       "    <tr>\n",
       "      <td>renewable_energy</td>\n",
       "      <td>38.00</td>\n",
       "      <td>41.00</td>\n",
       "      <td>18.00</td>\n",
       "      <td>2.00</td>\n",
       "    </tr>\n",
       "    <tr>\n",
       "      <td>small_business</td>\n",
       "      <td>24.00</td>\n",
       "      <td>44.00</td>\n",
       "      <td>27.00</td>\n",
       "      <td>5.00</td>\n",
       "    </tr>\n",
       "    <tr>\n",
       "      <td>vacation</td>\n",
       "      <td>42.00</td>\n",
       "      <td>44.00</td>\n",
       "      <td>13.00</td>\n",
       "      <td>1.00</td>\n",
       "    </tr>\n",
       "    <tr>\n",
       "      <td>wedding</td>\n",
       "      <td>32.00</td>\n",
       "      <td>49.00</td>\n",
       "      <td>17.00</td>\n",
       "      <td>2.00</td>\n",
       "    </tr>\n",
       "    <tr>\n",
       "      <td>Total</td>\n",
       "      <td>31.00</td>\n",
       "      <td>47.00</td>\n",
       "      <td>19.00</td>\n",
       "      <td>2.00</td>\n",
       "    </tr>\n",
       "  </tbody>\n",
       "</table>\n",
       "</div>"
      ],
      "text/plain": [
       "int_rate_bin        5-10  10-15  15-20  20-25\n",
       "purpose                                      \n",
       "car                47.00  40.00  12.00   0.00\n",
       "credit_card        34.00  49.00  16.00   2.00\n",
       "debt_consolidation 27.00  49.00  22.00   3.00\n",
       "educational        27.00  64.00   9.00   0.00\n",
       "home_improvement   39.00  44.00  16.00   2.00\n",
       "house              32.00  41.00  23.00   3.00\n",
       "major_purchase     44.00  42.00  14.00   1.00\n",
       "medical            35.00  46.00  17.00   1.00\n",
       "moving             35.00  47.00  16.00   2.00\n",
       "other              32.00  50.00  17.00   1.00\n",
       "renewable_energy   38.00  41.00  18.00   2.00\n",
       "small_business     24.00  44.00  27.00   5.00\n",
       "vacation           42.00  44.00  13.00   1.00\n",
       "wedding            32.00  49.00  17.00   2.00\n",
       "Total              31.00  47.00  19.00   2.00"
      ]
     },
     "execution_count": 74,
     "metadata": {},
     "output_type": "execute_result"
    }
   ],
   "source": [
    "# loan purpose Vs Interest Rate\n",
    "pd.crosstab(df.purpose, df.int_rate_bin, margins=True, margins_name=\"Total\", normalize=\"index\").apply(lambda r: round(100*(r/r.sum())), axis=1)"
   ]
  },
  {
   "cell_type": "code",
   "execution_count": 75,
   "metadata": {
    "scrolled": true,
    "slideshow": {
     "slide_type": "skip"
    }
   },
   "outputs": [
    {
     "data": {
      "image/png": "[encoded data removed]",
      "text/plain": [
       "<Figure size 1440x720 with 1 Axes>"
      ]
     },
     "metadata": {
      "needs_background": "light"
     },
     "output_type": "display_data"
    }
   ],
   "source": [
    "# Box plot between the loan purpose and interest rate offered\n",
    "plt.figure(figsize=(20, 10))\n",
    "sns.boxplot(x='purpose', y='int_rate', data=df, color = base_color);\n",
    "plt.show();"
   ]
  },
  {
   "cell_type": "markdown",
   "metadata": {
    "slideshow": {
     "slide_type": "skip"
    }
   },
   "source": [
    "`Small Business`, `House` and `Debt Consolidation` are considered as high risk loan purpose and hence offered more interest rates."
   ]
  },
  {
   "cell_type": "markdown",
   "metadata": {
    "slideshow": {
     "slide_type": "skip"
    }
   },
   "source": [
    "### Loan Amount Vs Interest Rate\n",
    "Higher Interest rates are chanred for high loan amounts¶"
   ]
  },
  {
   "cell_type": "code",
   "execution_count": 76,
   "metadata": {
    "scrolled": true,
    "slideshow": {
     "slide_type": "skip"
    }
   },
   "outputs": [
    {
     "data": {
      "image/png": "[encoded data removed]",
      "text/plain": [
       "<Figure size 432x288 with 1 Axes>"
      ]
     },
     "metadata": {
      "needs_background": "light"
     },
     "output_type": "display_data"
    }
   ],
   "source": [
    "## bar plot on categorical variable : loan_amnt_bin\n",
    "sns.barplot(x='loan_amnt_bin', y='int_rate', data=df, color = base_color)\n",
    "plt.show()"
   ]
  },
  {
   "cell_type": "markdown",
   "metadata": {
    "slideshow": {
     "slide_type": "skip"
    }
   },
   "source": [
    "### Talk about some of the relationships you observed in this part of the investigation. How did the feature(s) of interest vary with other features in the dataset?\n",
    "Higher interest rates have high default rate. Low income earners tend to default more. There's an increasing trend observed for higher grades. Also, 60 month term has high defalut rate. Debt consolidation is the main purpose for loan defaults. Home ownership, debt-to-income ratio, employment length and installment amount are not significant predictors of loan status."
   ]
  },
  {
   "cell_type": "markdown",
   "metadata": {
    "slideshow": {
     "slide_type": "skip"
    }
   },
   "source": [
    "### Did you observe any interesting relationships between the other features (not the main feature(s) of interest)?¶\n",
    "Interest charged to `small business, deb_consolidation` is more than others under purpose category. Also, high interest rates are chanrged for high loan amount."
   ]
  },
  {
   "cell_type": "markdown",
   "metadata": {
    "slideshow": {
     "slide_type": "skip"
    }
   },
   "source": [
    "### Did you perform any operations on the data to tidy, adjust, or change the form of the data? If so, why did you do this?\n",
    "Interest rate bins are created to distribute data in intervals of 5%. Annual income bins are created like low, medium, high and very high to visualize data in different income groups. Similarly, debt-to-income ratio bins are created fto distribute data in groups. Installment bins are also created to visualize data in different installment categories like low, medium etc."
   ]
  },
  {
   "cell_type": "markdown",
   "metadata": {
    "slideshow": {
     "slide_type": "skip"
    }
   },
   "source": [
    "# Multivariate Exploration\n",
    "As seen during bivariate analysis `loan purpose`, `loan term`, `grade`, `interest rate`, `annual income` and `loan amount` are significant variables to determine rate of defaults. Hence, we try to mix few of these variables to see the relationship with rate of default."
   ]
  },
  {
   "cell_type": "code",
   "execution_count": 77,
   "metadata": {
    "slideshow": {
     "slide_type": "skip"
    }
   },
   "outputs": [
    {
     "data": {
      "text/plain": [
       "debt_consolidation    16911\n",
       "credit_card            4626\n",
       "other                  3462\n",
       "home_improvement       2614\n",
       "major_purchase         1973\n",
       "car                    1395\n",
       "small_business         1351\n",
       "wedding                 865\n",
       "medical                 622\n",
       "moving                  523\n",
       "vacation                332\n",
       "house                   330\n",
       "educational             276\n",
       "renewable_energy         87\n",
       "Name: purpose, dtype: int64"
      ]
     },
     "execution_count": 77,
     "metadata": {},
     "output_type": "execute_result"
    }
   ],
   "source": [
    "# let's check the top 5 purpose of loans\n",
    "df.purpose.value_counts()"
   ]
  },
  {
   "cell_type": "code",
   "execution_count": 78,
   "metadata": {
    "scrolled": true,
    "slideshow": {
     "slide_type": "skip"
    }
   },
   "outputs": [
    {
     "data": {
      "text/plain": [
       "debt_consolidation    16911\n",
       "credit_card            4626\n",
       "home_improvement       2614\n",
       "major_purchase         1973\n",
       "Name: purpose, dtype: int64"
      ]
     },
     "execution_count": 78,
     "metadata": {},
     "output_type": "execute_result"
    }
   ],
   "source": [
    "# let's take top 4 purpose excluding Other since it's detail is not very clear\n",
    "main_purposes = [\"debt_consolidation\", \"credit_card\",\"home_improvement\",\"major_purchase\"]\n",
    "df = df[df['purpose'].isin(main_purposes)]\n",
    "df['purpose'].value_counts()"
   ]
  },
  {
   "cell_type": "code",
   "execution_count": 79,
   "metadata": {
    "slideshow": {
     "slide_type": "skip"
    }
   },
   "outputs": [
    {
     "data": {
      "image/png": "[encoded data removed]",
      "text/plain": [
       "<Figure size 432x288 with 1 Axes>"
      ]
     },
     "metadata": {
      "needs_background": "light"
     },
     "output_type": "display_data"
    }
   ],
   "source": [
    "sns.countplot(data = df, x = 'purpose', color = base_color);"
   ]
  },
  {
   "cell_type": "markdown",
   "metadata": {
    "slideshow": {
     "slide_type": "slide"
    }
   },
   "source": [
    "## Loan Term, Purpose Vs Loan Status\n",
    "Plotting loan purpose against loan term shows that `debt consolidation` has the highest rate of default in both loan terms 36 and 60 months.There's an increase in trend of loan defaulters when we move from lower term to higher term. Among all purposes, `debt consolidation` tends to default most. There's much higher default rate 25%+ for 60 months term against only 12% for 36 months period. Also, 60 months term has much higher default rate almost double than 36 months which can also be considered to be very risky."
   ]
  },
  {
   "cell_type": "code",
   "execution_count": 80,
   "metadata": {
    "scrolled": true,
    "slideshow": {
     "slide_type": "subslide"
    }
   },
   "outputs": [
    {
     "data": {
      "image/png": "[encoded data removed]",
      "text/plain": [
       "<Figure size 960x800 with 1 Axes>"
      ]
     },
     "metadata": {},
     "output_type": "display_data"
    }
   ],
   "source": [
    "# let's now compare the default rates across two types of categorical variables\n",
    "# purpose of loan (constant) and another categorical variable (which changes)\n",
    "plt.figure(num=None, figsize=(12, 10), dpi=80, facecolor='w', edgecolor='k')\n",
    "sns.barplot(x='term_months', y='loan_status', hue=\"purpose\", data=df)\n",
    "plt.title('Loan Purpose, Term Default Rate')\n",
    "plt.xlabel('Loan term (Months)')\n",
    "plt.ylabel('Loan Status')\n",
    "plt.show();"
   ]
  },
  {
   "cell_type": "markdown",
   "metadata": {
    "slideshow": {
     "slide_type": "slide"
    }
   },
   "source": [
    "## Loan Amount, Interest Rate Vs Loan Status\n",
    "Let's check how default rate varies with Loan amount and interest rates which are significant variables found during bivariate analysis. As can be seen, high loan amount are charged high interest rates. As the interest rate goes higher, default rates goes up as well. For high loan amount and interest rate between 20-25 % have more than 40% default rates."
   ]
  },
  {
   "cell_type": "code",
   "execution_count": 81,
   "metadata": {
    "scrolled": true,
    "slideshow": {
     "slide_type": "subslide"
    }
   },
   "outputs": [
    {
     "data": {
      "image/png": "[encoded data removed]",
      "text/plain": [
       "<Figure size 960x800 with 1 Axes>"
      ]
     },
     "metadata": {},
     "output_type": "display_data"
    }
   ],
   "source": [
    "# Loan Amount\n",
    "plt.figure(num=None, figsize=(12, 10), dpi=80, facecolor='w', edgecolor='k')\n",
    "sns.barplot(x='loan_amnt_bin', y='loan_status', hue=\"int_rate_bin\", data=df, order = loan_order)\n",
    "plt.title('Loan Amount and Interest Default Rate')\n",
    "plt.xlabel('Loan Amount')\n",
    "plt.ylabel('Loan Status')\n",
    "plt.show();"
   ]
  },
  {
   "cell_type": "markdown",
   "metadata": {
    "slideshow": {
     "slide_type": "slide"
    }
   },
   "source": [
    "## Installment, Annual Income Vs Loan Status\n",
    "Let's plot Installment and Annual income against loan status. We've already seen low income group and high installment have high default rates, similar trend can also be seen below where low income group having high installment are highest defaulters. Higest default rate for low income is around 18% and the lowest default rate for high income is 12.5%."
   ]
  },
  {
   "cell_type": "code",
   "execution_count": 82,
   "metadata": {
    "scrolled": false,
    "slideshow": {
     "slide_type": "subslide"
    }
   },
   "outputs": [
    {
     "data": {
      "image/png": "[encoded data removed]",
      "text/plain": [
       "<Figure size 960x800 with 1 Axes>"
      ]
     },
     "metadata": {},
     "output_type": "display_data"
    }
   ],
   "source": [
    "# Installment\n",
    "plt.figure(num=None, figsize=(12, 10), dpi=80, facecolor='w', edgecolor='k')\n",
    "sns.barplot(x='annual_inc', y='loan_status', hue=\"installment\", data=df, order = loan_order)\n",
    "plt.title('Loan Installment, Annual Income Default Rate')\n",
    "plt.xlabel('Annual Income')\n",
    "plt.ylabel('Loan Status')\n",
    "plt.show();"
   ]
  },
  {
   "cell_type": "markdown",
   "metadata": {
    "slideshow": {
     "slide_type": "slide"
    }
   },
   "source": [
    "## Grade, Purpose Vs Loan Status\n",
    "Extending our finding of `debt_consolidation` as the most common reason for default. Let's plot purpose with Grade category. We've already seen higher grade tends to default. Let's see if this trend of higher grade and `deb_consolidation` as purpose also hold true. As seen below, there's an increase in trend for higher order Grades namely E, F and G having `deb_consolidation` as main purpose defaults the most."
   ]
  },
  {
   "cell_type": "code",
   "execution_count": 83,
   "metadata": {
    "scrolled": true,
    "slideshow": {
     "slide_type": "subslide"
    }
   },
   "outputs": [
    {
     "data": {
      "image/png": "[encoded data removed]",
      "text/plain": [
       "<Figure size 960x800 with 1 Axes>"
      ]
     },
     "metadata": {},
     "output_type": "display_data"
    }
   ],
   "source": [
    "# grade\n",
    "plt.figure(num=None, figsize=(12, 10), dpi=80, facecolor='w', edgecolor='k')\n",
    "sns.barplot(x='grade', y='loan_status', hue=\"purpose\", data=df, order = level_order)\n",
    "plt.title('Loan Purpose, Grade Default Rate')\n",
    "plt.xlabel('Grades')\n",
    "plt.ylabel('Loan Status')\n",
    "plt.show();"
   ]
  },
  {
   "cell_type": "markdown",
   "metadata": {
    "slideshow": {
     "slide_type": "skip"
    }
   },
   "source": [
    "### Talk about some of the relationships you observed in this part of the investigation. Were there features that strengthened each other in terms of looking at your feature(s) of interest?\n",
    "`debt_consolidation` having 60 months loan term is the top category to default. This also, hold true for higher Grades as well. Higher loan amount attaracts higher interest rate with high risk of default. Low income group with high installment amount has high default rate."
   ]
  },
  {
   "cell_type": "markdown",
   "metadata": {
    "slideshow": {
     "slide_type": "skip"
    }
   },
   "source": [
    "### Did you perform any operations on the data to tidy, adjust, or change the form of the data? If so, why did you do this?\n",
    "Top 4 purpose are segregated into main purpose and plotted against Grade and loan term."
   ]
  }
 ],
 "metadata": {
  "celltoolbar": "Slideshow",
  "kernelspec": {
   "display_name": "Python 3",
   "language": "python",
   "name": "python3"
  },
  "language_info": {
   "codemirror_mode": {
    "name": "ipython",
    "version": 3
   },
   "file_extension": ".py",
   "mimetype": "text/x-python",
   "name": "python",
   "nbconvert_exporter": "python",
   "pygments_lexer": "ipython3",
   "version": "3.7.4"
  }
 },
 "nbformat": 4,
 "nbformat_minor": 2
}
